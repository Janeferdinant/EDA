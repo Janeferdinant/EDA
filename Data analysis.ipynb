{
  "cells": [
    {
      "cell_type": "code",
      "execution_count": 1,
      "metadata": {
        "id": "1HyoZ4SjWtVh"
      },
      "outputs": [],
      "source": [
        "import numpy as np \n",
        "import pandas as pd\n",
        "import matplotlib.pyplot as plt\n",
        "dfa=pd.read_csv('/content/Sample_for_AI.csv')\n",
        "dfb=pd.read_csv('/content/Sample_for_BI.csv')\n",
        "from google.colab import data_table\n"
      ]
    },
    {
      "cell_type": "code",
      "execution_count": null,
      "metadata": {
        "colab": {
          "base_uri": "https://localhost:8080/",
          "height": 300
        },
        "id": "zxNe8neAWtkW",
        "outputId": "a75c5d1b-e844-40db-caca-df58da1bb8d8"
      },
      "outputs": [
        {
          "data": {
            "text/html": [
              "\n",
              "  <div id=\"df-5dd23ddc-b294-4a40-bc9f-956275c816a0\">\n",
              "    <div class=\"colab-df-container\">\n",
              "      <div>\n",
              "<style scoped>\n",
              "    .dataframe tbody tr th:only-of-type {\n",
              "        vertical-align: middle;\n",
              "    }\n",
              "\n",
              "    .dataframe tbody tr th {\n",
              "        vertical-align: top;\n",
              "    }\n",
              "\n",
              "    .dataframe thead th {\n",
              "        text-align: right;\n",
              "    }\n",
              "</style>\n",
              "<table border=\"1\" class=\"dataframe\">\n",
              "  <thead>\n",
              "    <tr style=\"text-align: right;\">\n",
              "      <th></th>\n",
              "      <th>ID</th>\n",
              "      <th>TotalVisits</th>\n",
              "      <th>Total Time Spent on Website</th>\n",
              "      <th>Page Views Per Visit</th>\n",
              "    </tr>\n",
              "  </thead>\n",
              "  <tbody>\n",
              "    <tr>\n",
              "      <th>count</th>\n",
              "      <td>9240.000000</td>\n",
              "      <td>9103.000000</td>\n",
              "      <td>9240.000000</td>\n",
              "      <td>9103.000000</td>\n",
              "    </tr>\n",
              "    <tr>\n",
              "      <th>mean</th>\n",
              "      <td>4620.500000</td>\n",
              "      <td>3.445238</td>\n",
              "      <td>487.698268</td>\n",
              "      <td>2.362820</td>\n",
              "    </tr>\n",
              "    <tr>\n",
              "      <th>std</th>\n",
              "      <td>2667.502577</td>\n",
              "      <td>4.854853</td>\n",
              "      <td>548.021466</td>\n",
              "      <td>2.161418</td>\n",
              "    </tr>\n",
              "    <tr>\n",
              "      <th>min</th>\n",
              "      <td>1.000000</td>\n",
              "      <td>0.000000</td>\n",
              "      <td>0.000000</td>\n",
              "      <td>0.000000</td>\n",
              "    </tr>\n",
              "    <tr>\n",
              "      <th>25%</th>\n",
              "      <td>2310.750000</td>\n",
              "      <td>1.000000</td>\n",
              "      <td>12.000000</td>\n",
              "      <td>1.000000</td>\n",
              "    </tr>\n",
              "    <tr>\n",
              "      <th>50%</th>\n",
              "      <td>4620.500000</td>\n",
              "      <td>3.000000</td>\n",
              "      <td>248.000000</td>\n",
              "      <td>2.000000</td>\n",
              "    </tr>\n",
              "    <tr>\n",
              "      <th>75%</th>\n",
              "      <td>6930.250000</td>\n",
              "      <td>5.000000</td>\n",
              "      <td>936.000000</td>\n",
              "      <td>3.000000</td>\n",
              "    </tr>\n",
              "    <tr>\n",
              "      <th>max</th>\n",
              "      <td>9240.000000</td>\n",
              "      <td>251.000000</td>\n",
              "      <td>2272.000000</td>\n",
              "      <td>55.000000</td>\n",
              "    </tr>\n",
              "  </tbody>\n",
              "</table>\n",
              "</div>\n",
              "      <button class=\"colab-df-convert\" onclick=\"convertToInteractive('df-5dd23ddc-b294-4a40-bc9f-956275c816a0')\"\n",
              "              title=\"Convert this dataframe to an interactive table.\"\n",
              "              style=\"display:none;\">\n",
              "        \n",
              "  <svg xmlns=\"http://www.w3.org/2000/svg\" height=\"24px\"viewBox=\"0 0 24 24\"\n",
              "       width=\"24px\">\n",
              "    <path d=\"M0 0h24v24H0V0z\" fill=\"none\"/>\n",
              "    <path d=\"M18.56 5.44l.94 2.06.94-2.06 2.06-.94-2.06-.94-.94-2.06-.94 2.06-2.06.94zm-11 1L8.5 8.5l.94-2.06 2.06-.94-2.06-.94L8.5 2.5l-.94 2.06-2.06.94zm10 10l.94 2.06.94-2.06 2.06-.94-2.06-.94-.94-2.06-.94 2.06-2.06.94z\"/><path d=\"M17.41 7.96l-1.37-1.37c-.4-.4-.92-.59-1.43-.59-.52 0-1.04.2-1.43.59L10.3 9.45l-7.72 7.72c-.78.78-.78 2.05 0 2.83L4 21.41c.39.39.9.59 1.41.59.51 0 1.02-.2 1.41-.59l7.78-7.78 2.81-2.81c.8-.78.8-2.07 0-2.86zM5.41 20L4 18.59l7.72-7.72 1.47 1.35L5.41 20z\"/>\n",
              "  </svg>\n",
              "      </button>\n",
              "      \n",
              "  <style>\n",
              "    .colab-df-container {\n",
              "      display:flex;\n",
              "      flex-wrap:wrap;\n",
              "      gap: 12px;\n",
              "    }\n",
              "\n",
              "    .colab-df-convert {\n",
              "      background-color: #E8F0FE;\n",
              "      border: none;\n",
              "      border-radius: 50%;\n",
              "      cursor: pointer;\n",
              "      display: none;\n",
              "      fill: #1967D2;\n",
              "      height: 32px;\n",
              "      padding: 0 0 0 0;\n",
              "      width: 32px;\n",
              "    }\n",
              "\n",
              "    .colab-df-convert:hover {\n",
              "      background-color: #E2EBFA;\n",
              "      box-shadow: 0px 1px 2px rgba(60, 64, 67, 0.3), 0px 1px 3px 1px rgba(60, 64, 67, 0.15);\n",
              "      fill: #174EA6;\n",
              "    }\n",
              "\n",
              "    [theme=dark] .colab-df-convert {\n",
              "      background-color: #3B4455;\n",
              "      fill: #D2E3FC;\n",
              "    }\n",
              "\n",
              "    [theme=dark] .colab-df-convert:hover {\n",
              "      background-color: #434B5C;\n",
              "      box-shadow: 0px 1px 3px 1px rgba(0, 0, 0, 0.15);\n",
              "      filter: drop-shadow(0px 1px 2px rgba(0, 0, 0, 0.3));\n",
              "      fill: #FFFFFF;\n",
              "    }\n",
              "  </style>\n",
              "\n",
              "      <script>\n",
              "        const buttonEl =\n",
              "          document.querySelector('#df-5dd23ddc-b294-4a40-bc9f-956275c816a0 button.colab-df-convert');\n",
              "        buttonEl.style.display =\n",
              "          google.colab.kernel.accessAllowed ? 'block' : 'none';\n",
              "\n",
              "        async function convertToInteractive(key) {\n",
              "          const element = document.querySelector('#df-5dd23ddc-b294-4a40-bc9f-956275c816a0');\n",
              "          const dataTable =\n",
              "            await google.colab.kernel.invokeFunction('convertToInteractive',\n",
              "                                                     [key], {});\n",
              "          if (!dataTable) return;\n",
              "\n",
              "          const docLinkHtml = 'Like what you see? Visit the ' +\n",
              "            '<a target=\"_blank\" href=https://colab.research.google.com/notebooks/data_table.ipynb>data table notebook</a>'\n",
              "            + ' to learn more about interactive tables.';\n",
              "          element.innerHTML = '';\n",
              "          dataTable['output_type'] = 'display_data';\n",
              "          await google.colab.output.renderOutput(dataTable, element);\n",
              "          const docLink = document.createElement('div');\n",
              "          docLink.innerHTML = docLinkHtml;\n",
              "          element.appendChild(docLink);\n",
              "        }\n",
              "      </script>\n",
              "    </div>\n",
              "  </div>\n",
              "  "
            ],
            "text/plain": [
              "                ID  ...  Page Views Per Visit\n",
              "count  9240.000000  ...           9103.000000\n",
              "mean   4620.500000  ...              2.362820\n",
              "std    2667.502577  ...              2.161418\n",
              "min       1.000000  ...              0.000000\n",
              "25%    2310.750000  ...              1.000000\n",
              "50%    4620.500000  ...              2.000000\n",
              "75%    6930.250000  ...              3.000000\n",
              "max    9240.000000  ...             55.000000\n",
              "\n",
              "[8 rows x 4 columns]"
            ]
          },
          "execution_count": 48,
          "metadata": {},
          "output_type": "execute_result"
        }
      ],
      "source": [
        "dfa.describe()"
      ]
    },
    {
      "cell_type": "code",
      "execution_count": 3,
      "metadata": {
        "colab": {
          "base_uri": "https://localhost:8080/"
        },
        "id": "xMuk83QU5IJX",
        "outputId": "e286c575-46b3-4b12-b8be-8a488e366eb8"
      },
      "outputs": [
        {
          "output_type": "execute_result",
          "data": {
            "text/plain": [
              "<bound method DataFrame.info of         ID Purchased  ...             Specialization                   Origin\n",
              "0        1        No  ...                        NaN                      API\n",
              "1        2        No  ...                        NaN                      API\n",
              "2        3       Yes  ...    Business Administration  Landing Page Submission\n",
              "3        4        No  ...      Media and Advertising  Landing Page Submission\n",
              "4        5       Yes  ...                        NaN  Landing Page Submission\n",
              "...    ...       ...  ...                        ...                      ...\n",
              "9235  9236       Yes  ...     IT Projects Management  Landing Page Submission\n",
              "9236  9237        No  ...      Media and Advertising  Landing Page Submission\n",
              "9237  9238        No  ...    Business Administration  Landing Page Submission\n",
              "9238  9239       Yes  ...  Human Resource Management  Landing Page Submission\n",
              "9239  9240       Yes  ...    Supply Chain Management  Landing Page Submission\n",
              "\n",
              "[9240 rows x 9 columns]>"
            ]
          },
          "metadata": {},
          "execution_count": 3
        }
      ],
      "source": [
        "dfa.info"
      ]
    },
    {
      "cell_type": "code",
      "execution_count": 4,
      "metadata": {
        "colab": {
          "base_uri": "https://localhost:8080/",
          "height": 830
        },
        "id": "sWu3vewCa6jG",
        "outputId": "b1441950-9a08-4547-8e24-e0c483d65933"
      },
      "outputs": [
        {
          "output_type": "display_data",
          "data": {
            "image/png": "[encoded data removed]",
            "text/plain": [
              "<Figure size 1440x1080 with 4 Axes>"
            ]
          },
          "metadata": {
            "needs_background": "light"
          }
        }
      ],
      "source": [
        "\n",
        "import matplotlib.pyplot as plt\n",
        "dfa.hist(bins=50, figsize=(20,15))\n",
        "plt.show()"
      ]
    },
    {
      "cell_type": "code",
      "source": [
        "dfa.Specialization.fillna('unknown', inplace = True)\n",
        "dfb['Page Views Per Visit'].fillna(0, inplace = True)\n",
        "dfb.TotalVisits.fillna(0, inplace = True)\n",
        "dfa['Page Views Per Visit'].fillna(0, inplace = True)\n",
        "dfa.TotalVisits.fillna(0, inplace = True)\n",
        "dfb.Country.fillna('unknown', inplace = True)\n",
        "dfb.Specialization.fillna('unknown', inplace = True)\n",
        "dfb['How did you hear about Us'].fillna('unknown', inplace = True)\n",
        "dfb.Current_Occupation.fillna('unknown', inplace = True)\n",
        "dfb['What matters most to you in choosing a course'].fillna('unknown', inplace = True)\n",
        "dfb.Source.fillna(0, inplace = True)\n",
        "dfb['Last Activity'].fillna('unknown', inplace = True)"
      ],
      "metadata": {
        "id": "yH3Q5XAPg9wb"
      },
      "execution_count": 5,
      "outputs": []
    },
    {
      "cell_type": "code",
      "source": [
        "dfa.isnull().sum()"
      ],
      "metadata": {
        "colab": {
          "base_uri": "https://localhost:8080/"
        },
        "id": "HRirNhbH3E8-",
        "outputId": "b60f4522-8c8c-439a-a078-0c5f1d39a3eb"
      },
      "execution_count": null,
      "outputs": [
        {
          "output_type": "execute_result",
          "data": {
            "text/plain": [
              "ID                             0\n",
              "Purchased                      0\n",
              "Do Not Email                   0\n",
              "Do Not Call                    0\n",
              "TotalVisits                    0\n",
              "Total Time Spent on Website    0\n",
              "Page Views Per Visit           0\n",
              "Specialization                 0\n",
              "Origin                         0\n",
              "dtype: int64"
            ]
          },
          "metadata": {},
          "execution_count": 4
        }
      ]
    },
    {
      "cell_type": "code",
      "source": [
        "dfb.isnull().sum()"
      ],
      "metadata": {
        "colab": {
          "base_uri": "https://localhost:8080/"
        },
        "id": "0ePSSzMFjnOO",
        "outputId": "de314162-887c-4b72-c035-d7bb511ca2c9"
      },
      "execution_count": null,
      "outputs": [
        {
          "output_type": "execute_result",
          "data": {
            "text/plain": [
              "ID                                               0\n",
              "Country                                          0\n",
              "Specialization                                   0\n",
              "How did you hear about Us                        0\n",
              "Current_Occupation                               0\n",
              "What matters most to you in choosing a course    0\n",
              "Origin                                           0\n",
              "Source                                           0\n",
              "Do Not Email                                     0\n",
              "Do Not Call                                      0\n",
              "TotalVisits                                      0\n",
              "Total Time Spent on Website                      0\n",
              "Page Views Per Visit                             0\n",
              "Last Activity                                    0\n",
              "Purchased                                        0\n",
              "dtype: int64"
            ]
          },
          "metadata": {},
          "execution_count": 5
        }
      ]
    },
    {
      "cell_type": "code",
      "execution_count": 6,
      "metadata": {
        "colab": {
          "base_uri": "https://localhost:8080/",
          "height": 283
        },
        "id": "CjeRK2HDoBus",
        "outputId": "9700cbaf-c72e-41eb-e3ec-2e6651b7ebdf"
      },
      "outputs": [
        {
          "output_type": "execute_result",
          "data": {
            "text/plain": [
              "<matplotlib.axes._subplots.AxesSubplot at 0x7f1ee82b6890>"
            ]
          },
          "metadata": {},
          "execution_count": 6
        },
        {
          "output_type": "display_data",
          "data": {
            "image/png": "[encoded data removed]",
            "text/plain": [
              "<Figure size 432x288 with 1 Axes>"
            ]
          },
          "metadata": {
            "needs_background": "light"
          }
        }
      ],
      "source": [
        "dfa[\"income_cat\"] = pd.cut(dfa[\"Page Views Per Visit\"],\n",
        "bins=[0., 1.5, 3.0, 4.5, 6., np.inf],\n",
        "labels=[1, 2, 3, 4, 5])\n",
        "\n",
        "dfa[\"income_cat\"].hist()"
      ]
    },
    {
      "cell_type": "code",
      "execution_count": 7,
      "metadata": {
        "colab": {
          "base_uri": "https://localhost:8080/",
          "height": 800
        },
        "id": "bRYBZ0XQ29mj",
        "outputId": "5a40e036-a231-4451-8b8b-569f926a35f4"
      },
      "outputs": [
        {
          "output_type": "execute_result",
          "data": {
            "text/plain": [
              "array([[<matplotlib.axes._subplots.AxesSubplot object at 0x7f1ee81d4c10>,\n",
              "        <matplotlib.axes._subplots.AxesSubplot object at 0x7f1ee817dc90>,\n",
              "        <matplotlib.axes._subplots.AxesSubplot object at 0x7f1ee81412d0>],\n",
              "       [<matplotlib.axes._subplots.AxesSubplot object at 0x7f1ee80f58d0>,\n",
              "        <matplotlib.axes._subplots.AxesSubplot object at 0x7f1ee80a9ed0>,\n",
              "        <matplotlib.axes._subplots.AxesSubplot object at 0x7f1ee806e510>],\n",
              "       [<matplotlib.axes._subplots.AxesSubplot object at 0x7f1ee8025890>,\n",
              "        <matplotlib.axes._subplots.AxesSubplot object at 0x7f1ee7fdacd0>,\n",
              "        <matplotlib.axes._subplots.AxesSubplot object at 0x7f1ee7fdad10>]],\n",
              "      dtype=object)"
            ]
          },
          "metadata": {},
          "execution_count": 7
        },
        {
          "output_type": "display_data",
          "data": {
            "image/png": "[encoded data removed]",
            "text/plain": [
              "<Figure size 1080x720 with 9 Axes>"
            ]
          },
          "metadata": {
            "needs_background": "light"
          }
        }
      ],
      "source": [
        "from pandas.plotting import scatter_matrix\n",
        "attributes = [\"Purchased\", \"TotalVisits\", \"Total Time Spent on Website\",\n",
        "\"Page Views Per Visit\",'Specialization','Origin']\n",
        "scatter_matrix(dfa[attributes], figsize=(15, 10))"
      ]
    },
    {
      "cell_type": "code",
      "execution_count": 8,
      "metadata": {
        "colab": {
          "base_uri": "https://localhost:8080/",
          "height": 297
        },
        "id": "WtXdNzFj5T12",
        "outputId": "6388662b-9420-43ec-caa1-2ba57d564877"
      },
      "outputs": [
        {
          "output_type": "execute_result",
          "data": {
            "text/plain": [
              "<matplotlib.axes._subplots.AxesSubplot at 0x7f1ee89d0e90>"
            ]
          },
          "metadata": {},
          "execution_count": 8
        },
        {
          "output_type": "display_data",
          "data": {
            "image/png": "[encoded data removed]",
            "text/plain": [
              "<Figure size 432x288 with 1 Axes>"
            ]
          },
          "metadata": {
            "needs_background": "light"
          }
        }
      ],
      "source": [
        "dfa.plot(kind=\"scatter\", x=\"Page Views Per Visit\", y=\"TotalVisits\",\n",
        "alpha=0.1)"
      ]
    },
    {
      "cell_type": "code",
      "execution_count": 9,
      "metadata": {
        "colab": {
          "base_uri": "https://localhost:8080/",
          "height": 174
        },
        "id": "pE7L1I4W7GV9",
        "outputId": "d17f2f5c-0c8d-4f9c-8d36-f8af37cd557c"
      },
      "outputs": [
        {
          "output_type": "execute_result",
          "data": {
            "text/html": [
              "\n",
              "  <div id=\"df-71a3dce2-e40d-42ef-bd45-25fa125514d6\">\n",
              "    <div class=\"colab-df-container\">\n",
              "      <div>\n",
              "<style scoped>\n",
              "    .dataframe tbody tr th:only-of-type {\n",
              "        vertical-align: middle;\n",
              "    }\n",
              "\n",
              "    .dataframe tbody tr th {\n",
              "        vertical-align: top;\n",
              "    }\n",
              "\n",
              "    .dataframe thead th {\n",
              "        text-align: right;\n",
              "    }\n",
              "</style>\n",
              "<table border=\"1\" class=\"dataframe\">\n",
              "  <thead>\n",
              "    <tr style=\"text-align: right;\">\n",
              "      <th></th>\n",
              "      <th>ID</th>\n",
              "      <th>TotalVisits</th>\n",
              "      <th>Total Time Spent on Website</th>\n",
              "      <th>Page Views Per Visit</th>\n",
              "    </tr>\n",
              "  </thead>\n",
              "  <tbody>\n",
              "    <tr>\n",
              "      <th>ID</th>\n",
              "      <td>1.000000</td>\n",
              "      <td>-0.016931</td>\n",
              "      <td>-0.019775</td>\n",
              "      <td>-0.048718</td>\n",
              "    </tr>\n",
              "    <tr>\n",
              "      <th>TotalVisits</th>\n",
              "      <td>-0.016931</td>\n",
              "      <td>1.000000</td>\n",
              "      <td>0.209468</td>\n",
              "      <td>0.517122</td>\n",
              "    </tr>\n",
              "    <tr>\n",
              "      <th>Total Time Spent on Website</th>\n",
              "      <td>-0.019775</td>\n",
              "      <td>0.209468</td>\n",
              "      <td>1.000000</td>\n",
              "      <td>0.301036</td>\n",
              "    </tr>\n",
              "    <tr>\n",
              "      <th>Page Views Per Visit</th>\n",
              "      <td>-0.048718</td>\n",
              "      <td>0.517122</td>\n",
              "      <td>0.301036</td>\n",
              "      <td>1.000000</td>\n",
              "    </tr>\n",
              "  </tbody>\n",
              "</table>\n",
              "</div>\n",
              "      <button class=\"colab-df-convert\" onclick=\"convertToInteractive('df-71a3dce2-e40d-42ef-bd45-25fa125514d6')\"\n",
              "              title=\"Convert this dataframe to an interactive table.\"\n",
              "              style=\"display:none;\">\n",
              "        \n",
              "  <svg xmlns=\"http://www.w3.org/2000/svg\" height=\"24px\"viewBox=\"0 0 24 24\"\n",
              "       width=\"24px\">\n",
              "    <path d=\"M0 0h24v24H0V0z\" fill=\"none\"/>\n",
              "    <path d=\"M18.56 5.44l.94 2.06.94-2.06 2.06-.94-2.06-.94-.94-2.06-.94 2.06-2.06.94zm-11 1L8.5 8.5l.94-2.06 2.06-.94-2.06-.94L8.5 2.5l-.94 2.06-2.06.94zm10 10l.94 2.06.94-2.06 2.06-.94-2.06-.94-.94-2.06-.94 2.06-2.06.94z\"/><path d=\"M17.41 7.96l-1.37-1.37c-.4-.4-.92-.59-1.43-.59-.52 0-1.04.2-1.43.59L10.3 9.45l-7.72 7.72c-.78.78-.78 2.05 0 2.83L4 21.41c.39.39.9.59 1.41.59.51 0 1.02-.2 1.41-.59l7.78-7.78 2.81-2.81c.8-.78.8-2.07 0-2.86zM5.41 20L4 18.59l7.72-7.72 1.47 1.35L5.41 20z\"/>\n",
              "  </svg>\n",
              "      </button>\n",
              "      \n",
              "  <style>\n",
              "    .colab-df-container {\n",
              "      display:flex;\n",
              "      flex-wrap:wrap;\n",
              "      gap: 12px;\n",
              "    }\n",
              "\n",
              "    .colab-df-convert {\n",
              "      background-color: #E8F0FE;\n",
              "      border: none;\n",
              "      border-radius: 50%;\n",
              "      cursor: pointer;\n",
              "      display: none;\n",
              "      fill: #1967D2;\n",
              "      height: 32px;\n",
              "      padding: 0 0 0 0;\n",
              "      width: 32px;\n",
              "    }\n",
              "\n",
              "    .colab-df-convert:hover {\n",
              "      background-color: #E2EBFA;\n",
              "      box-shadow: 0px 1px 2px rgba(60, 64, 67, 0.3), 0px 1px 3px 1px rgba(60, 64, 67, 0.15);\n",
              "      fill: #174EA6;\n",
              "    }\n",
              "\n",
              "    [theme=dark] .colab-df-convert {\n",
              "      background-color: #3B4455;\n",
              "      fill: #D2E3FC;\n",
              "    }\n",
              "\n",
              "    [theme=dark] .colab-df-convert:hover {\n",
              "      background-color: #434B5C;\n",
              "      box-shadow: 0px 1px 3px 1px rgba(0, 0, 0, 0.15);\n",
              "      filter: drop-shadow(0px 1px 2px rgba(0, 0, 0, 0.3));\n",
              "      fill: #FFFFFF;\n",
              "    }\n",
              "  </style>\n",
              "\n",
              "      <script>\n",
              "        const buttonEl =\n",
              "          document.querySelector('#df-71a3dce2-e40d-42ef-bd45-25fa125514d6 button.colab-df-convert');\n",
              "        buttonEl.style.display =\n",
              "          google.colab.kernel.accessAllowed ? 'block' : 'none';\n",
              "\n",
              "        async function convertToInteractive(key) {\n",
              "          const element = document.querySelector('#df-71a3dce2-e40d-42ef-bd45-25fa125514d6');\n",
              "          const dataTable =\n",
              "            await google.colab.kernel.invokeFunction('convertToInteractive',\n",
              "                                                     [key], {});\n",
              "          if (!dataTable) return;\n",
              "\n",
              "          const docLinkHtml = 'Like what you see? Visit the ' +\n",
              "            '<a target=\"_blank\" href=https://colab.research.google.com/notebooks/data_table.ipynb>data table notebook</a>'\n",
              "            + ' to learn more about interactive tables.';\n",
              "          element.innerHTML = '';\n",
              "          dataTable['output_type'] = 'display_data';\n",
              "          await google.colab.output.renderOutput(dataTable, element);\n",
              "          const docLink = document.createElement('div');\n",
              "          docLink.innerHTML = docLinkHtml;\n",
              "          element.appendChild(docLink);\n",
              "        }\n",
              "      </script>\n",
              "    </div>\n",
              "  </div>\n",
              "  "
            ],
            "text/plain": [
              "                                   ID  ...  Page Views Per Visit\n",
              "ID                           1.000000  ...             -0.048718\n",
              "TotalVisits                 -0.016931  ...              0.517122\n",
              "Total Time Spent on Website -0.019775  ...              0.301036\n",
              "Page Views Per Visit        -0.048718  ...              1.000000\n",
              "\n",
              "[4 rows x 4 columns]"
            ]
          },
          "metadata": {},
          "execution_count": 9
        }
      ],
      "source": [
        "corr_matrix = dfa.corr()\n",
        "corr_matrix"
      ]
    },
    {
      "cell_type": "code",
      "execution_count": 10,
      "metadata": {
        "colab": {
          "base_uri": "https://localhost:8080/",
          "height": 363
        },
        "id": "tvFwOTcND0wY",
        "outputId": "e3fa0a2c-4d29-43da-e4f3-29cbfaabdf4f"
      },
      "outputs": [
        {
          "output_type": "execute_result",
          "data": {
            "text/html": [
              "\n",
              "  <div id=\"df-ea025839-7059-425a-8d5b-85f614975cf5\">\n",
              "    <div class=\"colab-df-container\">\n",
              "      <div>\n",
              "<style scoped>\n",
              "    .dataframe tbody tr th:only-of-type {\n",
              "        vertical-align: middle;\n",
              "    }\n",
              "\n",
              "    .dataframe tbody tr th {\n",
              "        vertical-align: top;\n",
              "    }\n",
              "\n",
              "    .dataframe thead th {\n",
              "        text-align: right;\n",
              "    }\n",
              "</style>\n",
              "<table border=\"1\" class=\"dataframe\">\n",
              "  <thead>\n",
              "    <tr style=\"text-align: right;\">\n",
              "      <th></th>\n",
              "      <th>Origin</th>\n",
              "    </tr>\n",
              "  </thead>\n",
              "  <tbody>\n",
              "    <tr>\n",
              "      <th>0</th>\n",
              "      <td>API</td>\n",
              "    </tr>\n",
              "    <tr>\n",
              "      <th>1</th>\n",
              "      <td>API</td>\n",
              "    </tr>\n",
              "    <tr>\n",
              "      <th>2</th>\n",
              "      <td>Landing Page Submission</td>\n",
              "    </tr>\n",
              "    <tr>\n",
              "      <th>3</th>\n",
              "      <td>Landing Page Submission</td>\n",
              "    </tr>\n",
              "    <tr>\n",
              "      <th>4</th>\n",
              "      <td>Landing Page Submission</td>\n",
              "    </tr>\n",
              "    <tr>\n",
              "      <th>5</th>\n",
              "      <td>API</td>\n",
              "    </tr>\n",
              "    <tr>\n",
              "      <th>6</th>\n",
              "      <td>Landing Page Submission</td>\n",
              "    </tr>\n",
              "    <tr>\n",
              "      <th>7</th>\n",
              "      <td>API</td>\n",
              "    </tr>\n",
              "    <tr>\n",
              "      <th>8</th>\n",
              "      <td>Landing Page Submission</td>\n",
              "    </tr>\n",
              "    <tr>\n",
              "      <th>9</th>\n",
              "      <td>API</td>\n",
              "    </tr>\n",
              "  </tbody>\n",
              "</table>\n",
              "</div>\n",
              "      <button class=\"colab-df-convert\" onclick=\"convertToInteractive('df-ea025839-7059-425a-8d5b-85f614975cf5')\"\n",
              "              title=\"Convert this dataframe to an interactive table.\"\n",
              "              style=\"display:none;\">\n",
              "        \n",
              "  <svg xmlns=\"http://www.w3.org/2000/svg\" height=\"24px\"viewBox=\"0 0 24 24\"\n",
              "       width=\"24px\">\n",
              "    <path d=\"M0 0h24v24H0V0z\" fill=\"none\"/>\n",
              "    <path d=\"M18.56 5.44l.94 2.06.94-2.06 2.06-.94-2.06-.94-.94-2.06-.94 2.06-2.06.94zm-11 1L8.5 8.5l.94-2.06 2.06-.94-2.06-.94L8.5 2.5l-.94 2.06-2.06.94zm10 10l.94 2.06.94-2.06 2.06-.94-2.06-.94-.94-2.06-.94 2.06-2.06.94z\"/><path d=\"M17.41 7.96l-1.37-1.37c-.4-.4-.92-.59-1.43-.59-.52 0-1.04.2-1.43.59L10.3 9.45l-7.72 7.72c-.78.78-.78 2.05 0 2.83L4 21.41c.39.39.9.59 1.41.59.51 0 1.02-.2 1.41-.59l7.78-7.78 2.81-2.81c.8-.78.8-2.07 0-2.86zM5.41 20L4 18.59l7.72-7.72 1.47 1.35L5.41 20z\"/>\n",
              "  </svg>\n",
              "      </button>\n",
              "      \n",
              "  <style>\n",
              "    .colab-df-container {\n",
              "      display:flex;\n",
              "      flex-wrap:wrap;\n",
              "      gap: 12px;\n",
              "    }\n",
              "\n",
              "    .colab-df-convert {\n",
              "      background-color: #E8F0FE;\n",
              "      border: none;\n",
              "      border-radius: 50%;\n",
              "      cursor: pointer;\n",
              "      display: none;\n",
              "      fill: #1967D2;\n",
              "      height: 32px;\n",
              "      padding: 0 0 0 0;\n",
              "      width: 32px;\n",
              "    }\n",
              "\n",
              "    .colab-df-convert:hover {\n",
              "      background-color: #E2EBFA;\n",
              "      box-shadow: 0px 1px 2px rgba(60, 64, 67, 0.3), 0px 1px 3px 1px rgba(60, 64, 67, 0.15);\n",
              "      fill: #174EA6;\n",
              "    }\n",
              "\n",
              "    [theme=dark] .colab-df-convert {\n",
              "      background-color: #3B4455;\n",
              "      fill: #D2E3FC;\n",
              "    }\n",
              "\n",
              "    [theme=dark] .colab-df-convert:hover {\n",
              "      background-color: #434B5C;\n",
              "      box-shadow: 0px 1px 3px 1px rgba(0, 0, 0, 0.15);\n",
              "      filter: drop-shadow(0px 1px 2px rgba(0, 0, 0, 0.3));\n",
              "      fill: #FFFFFF;\n",
              "    }\n",
              "  </style>\n",
              "\n",
              "      <script>\n",
              "        const buttonEl =\n",
              "          document.querySelector('#df-ea025839-7059-425a-8d5b-85f614975cf5 button.colab-df-convert');\n",
              "        buttonEl.style.display =\n",
              "          google.colab.kernel.accessAllowed ? 'block' : 'none';\n",
              "\n",
              "        async function convertToInteractive(key) {\n",
              "          const element = document.querySelector('#df-ea025839-7059-425a-8d5b-85f614975cf5');\n",
              "          const dataTable =\n",
              "            await google.colab.kernel.invokeFunction('convertToInteractive',\n",
              "                                                     [key], {});\n",
              "          if (!dataTable) return;\n",
              "\n",
              "          const docLinkHtml = 'Like what you see? Visit the ' +\n",
              "            '<a target=\"_blank\" href=https://colab.research.google.com/notebooks/data_table.ipynb>data table notebook</a>'\n",
              "            + ' to learn more about interactive tables.';\n",
              "          element.innerHTML = '';\n",
              "          dataTable['output_type'] = 'display_data';\n",
              "          await google.colab.output.renderOutput(dataTable, element);\n",
              "          const docLink = document.createElement('div');\n",
              "          docLink.innerHTML = docLinkHtml;\n",
              "          element.appendChild(docLink);\n",
              "        }\n",
              "      </script>\n",
              "    </div>\n",
              "  </div>\n",
              "  "
            ],
            "text/plain": [
              "                    Origin\n",
              "0                      API\n",
              "1                      API\n",
              "2  Landing Page Submission\n",
              "3  Landing Page Submission\n",
              "4  Landing Page Submission\n",
              "5                      API\n",
              "6  Landing Page Submission\n",
              "7                      API\n",
              "8  Landing Page Submission\n",
              "9                      API"
            ]
          },
          "metadata": {},
          "execution_count": 10
        }
      ],
      "source": [
        "Origin_cat = dfa[[\"Origin\"]]\n",
        "Origin_cat.head(10)"
      ]
    },
    {
      "cell_type": "code",
      "execution_count": 11,
      "metadata": {
        "id": "EsJ1UzovExIc"
      },
      "outputs": [],
      "source": [
        "from sklearn.preprocessing import OrdinalEncoder\n",
        "ordinal_encoder = OrdinalEncoder()\n",
        "Origin = ordinal_encoder.fit_transform(Origin_cat)\n"
      ]
    },
    {
      "cell_type": "code",
      "execution_count": 12,
      "metadata": {
        "colab": {
          "base_uri": "https://localhost:8080/"
        },
        "id": "75YfrCMDJ16n",
        "outputId": "0ded445f-b448-4a8a-da03-d9055e059991"
      },
      "outputs": [
        {
          "output_type": "execute_result",
          "data": {
            "text/plain": [
              "[array(['API', 'Landing Page Submission', 'Lead Add Form', 'Lead Import',\n",
              "        'Quick Add Form'], dtype=object)]"
            ]
          },
          "metadata": {},
          "execution_count": 12
        }
      ],
      "source": [
        "Origin[:10] \n",
        "ordinal_encoder.categories_"
      ]
    },
    {
      "cell_type": "code",
      "source": [
        "\n",
        "Y = ordinal_encoder.fit_transform(dfa[[\"Purchased\"]])\n",
        "Special= ordinal_encoder.fit_transform(dfa[[\"Specialization\"]])\n"
      ],
      "metadata": {
        "id": "aOlT2J65cAzS"
      },
      "execution_count": 13,
      "outputs": []
    },
    {
      "cell_type": "code",
      "source": [
        "Country = ordinal_encoder.fit_transform(dfb[[\"Country\"]])\n",
        "print(Country[:10])\n",
        "Specialization = ordinal_encoder.fit_transform(dfb[[\"Specialization\"]])\n",
        "print(Specialization[:10])\n",
        "about_Us= ordinal_encoder.fit_transform(dfb[[\"How did you hear about Us\"]])\n",
        "Current_Occupation = ordinal_encoder.fit_transform(dfb[[\"Current_Occupation\"]])\n",
        "print(Current_Occupation[:10])\n",
        "matters_most= ordinal_encoder.fit_transform(dfb[[\"What matters most to you in choosing a course\"]])\n",
        "Origin = ordinal_encoder.fit_transform(dfb[[\"Origin\"]])\n",
        "#Source = ordinal_encoder.fit_transform(dfb[[\"Source\"]])\n",
        "Do_Not_Email = ordinal_encoder.fit_transform(dfb[[\"Do Not Email\"]])\n",
        "Do_Not_Call = ordinal_encoder.fit_transform(dfb[[\"Do Not Call\"]])\n",
        "Purchased = ordinal_encoder.fit_transform(dfb[[\"Purchased\"]])\n",
        "Last_Activity= ordinal_encoder.fit_transform(dfb[[\"Last Activity\"]])\n"
      ],
      "metadata": {
        "colab": {
          "base_uri": "https://localhost:8080/"
        },
        "id": "6eXLIBuyb2KG",
        "outputId": "531c8045-74a1-4ce7-8b19-17465b7ee160"
      },
      "execution_count": 15,
      "outputs": [
        {
          "output_type": "stream",
          "name": "stdout",
          "text": [
            "[[24.]\n",
            " [12.]\n",
            " [12.]\n",
            " [12.]\n",
            " [12.]\n",
            " [37.]\n",
            " [12.]\n",
            " [37.]\n",
            " [12.]\n",
            " [12.]]\n",
            "[[ 1.]\n",
            " [18.]\n",
            " [ 1.]\n",
            " [11.]\n",
            " [18.]\n",
            " [18.]\n",
            " [16.]\n",
            " [18.]\n",
            " [ 8.]\n",
            " [ 4.]]\n",
            "[[4.]\n",
            " [4.]\n",
            " [3.]\n",
            " [4.]\n",
            " [4.]\n",
            " [6.]\n",
            " [4.]\n",
            " [6.]\n",
            " [6.]\n",
            " [6.]]\n"
          ]
        }
      ]
    },
    {
      "cell_type": "code",
      "source": [
        "df = pd.DataFrame({'Purchased':Purchased.flatten()})\n",
        "df['Do_Not_Call']=pd.DataFrame({'Do_Not_Call':Do_Not_Call.flatten()})\n",
        "df['Last_Activity']=pd.DataFrame({'Last_Activity':Last_Activity.flatten()})\n",
        "df['Do_Not_Email']=pd.DataFrame({'Do_Not_Email':Do_Not_Email.flatten()})\n",
        "\n",
        "df['Origin']=pd.DataFrame({'Origin':Origin.flatten()})\n",
        "df['matters_most']=pd.DataFrame({'matters_most':matters_most.flatten()})\n",
        "df['Current_Occupation ']=pd.DataFrame({'Current_Occupation ':Current_Occupation .flatten()})\n",
        "df['about_Us']=pd.DataFrame({'about_Us':about_Us.flatten()})\n",
        "\n",
        "df['Origin']=pd.DataFrame({'Origin':Origin.flatten()})\n",
        "df['Specialization']=pd.DataFrame({'Specialization':Specialization.flatten()})\n",
        "df['Country']=pd.DataFrame({'Country':Country.flatten()})\n",
        "df['TotalVisits']=dfb['TotalVisits']\n",
        "df['Total Time Spent on Website']=dfb['Total Time Spent on Website']\n",
        "df['Page Views Per Visit']=dfb['Page Views Per Visit']\n",
        "df.to_csv('BI.csv')\n",
        "x= df.drop(\"Purchased\",axis= 1)\n",
        "y=df[\"Purchased\"]\n",
        "x"
      ],
      "metadata": {
        "colab": {
          "base_uri": "https://localhost:8080/",
          "height": 556
        },
        "id": "CBb9Vd-ui7bw",
        "outputId": "c9f469a4-346d-4016-cbac-9ba6b3ae0704"
      },
      "execution_count": 16,
      "outputs": [
        {
          "output_type": "execute_result",
          "data": {
            "text/html": [
              "\n",
              "  <div id=\"df-8cf57346-87df-427c-be23-bf3c1955e126\">\n",
              "    <div class=\"colab-df-container\">\n",
              "      <div>\n",
              "<style scoped>\n",
              "    .dataframe tbody tr th:only-of-type {\n",
              "        vertical-align: middle;\n",
              "    }\n",
              "\n",
              "    .dataframe tbody tr th {\n",
              "        vertical-align: top;\n",
              "    }\n",
              "\n",
              "    .dataframe thead th {\n",
              "        text-align: right;\n",
              "    }\n",
              "</style>\n",
              "<table border=\"1\" class=\"dataframe\">\n",
              "  <thead>\n",
              "    <tr style=\"text-align: right;\">\n",
              "      <th></th>\n",
              "      <th>Do_Not_Call</th>\n",
              "      <th>Last_Activity</th>\n",
              "      <th>Do_Not_Email</th>\n",
              "      <th>Origin</th>\n",
              "      <th>matters_most</th>\n",
              "      <th>Current_Occupation</th>\n",
              "      <th>about_Us</th>\n",
              "      <th>Specialization</th>\n",
              "      <th>Country</th>\n",
              "      <th>TotalVisits</th>\n",
              "      <th>Total Time Spent on Website</th>\n",
              "      <th>Page Views Per Visit</th>\n",
              "    </tr>\n",
              "  </thead>\n",
              "  <tbody>\n",
              "    <tr>\n",
              "      <th>0</th>\n",
              "      <td>0.0</td>\n",
              "      <td>10.0</td>\n",
              "      <td>0.0</td>\n",
              "      <td>0.0</td>\n",
              "      <td>0.0</td>\n",
              "      <td>4.0</td>\n",
              "      <td>8.0</td>\n",
              "      <td>1.0</td>\n",
              "      <td>24.0</td>\n",
              "      <td>0.0</td>\n",
              "      <td>0</td>\n",
              "      <td>0.00</td>\n",
              "    </tr>\n",
              "    <tr>\n",
              "      <th>1</th>\n",
              "      <td>0.0</td>\n",
              "      <td>5.0</td>\n",
              "      <td>0.0</td>\n",
              "      <td>0.0</td>\n",
              "      <td>0.0</td>\n",
              "      <td>4.0</td>\n",
              "      <td>9.0</td>\n",
              "      <td>18.0</td>\n",
              "      <td>12.0</td>\n",
              "      <td>5.0</td>\n",
              "      <td>674</td>\n",
              "      <td>2.50</td>\n",
              "    </tr>\n",
              "    <tr>\n",
              "      <th>2</th>\n",
              "      <td>0.0</td>\n",
              "      <td>5.0</td>\n",
              "      <td>0.0</td>\n",
              "      <td>1.0</td>\n",
              "      <td>0.0</td>\n",
              "      <td>3.0</td>\n",
              "      <td>9.0</td>\n",
              "      <td>1.0</td>\n",
              "      <td>12.0</td>\n",
              "      <td>2.0</td>\n",
              "      <td>1532</td>\n",
              "      <td>2.00</td>\n",
              "    </tr>\n",
              "    <tr>\n",
              "      <th>3</th>\n",
              "      <td>0.0</td>\n",
              "      <td>13.0</td>\n",
              "      <td>0.0</td>\n",
              "      <td>1.0</td>\n",
              "      <td>0.0</td>\n",
              "      <td>4.0</td>\n",
              "      <td>8.0</td>\n",
              "      <td>11.0</td>\n",
              "      <td>12.0</td>\n",
              "      <td>1.0</td>\n",
              "      <td>305</td>\n",
              "      <td>1.00</td>\n",
              "    </tr>\n",
              "    <tr>\n",
              "      <th>4</th>\n",
              "      <td>0.0</td>\n",
              "      <td>1.0</td>\n",
              "      <td>0.0</td>\n",
              "      <td>1.0</td>\n",
              "      <td>0.0</td>\n",
              "      <td>4.0</td>\n",
              "      <td>4.0</td>\n",
              "      <td>18.0</td>\n",
              "      <td>12.0</td>\n",
              "      <td>2.0</td>\n",
              "      <td>1428</td>\n",
              "      <td>1.00</td>\n",
              "    </tr>\n",
              "    <tr>\n",
              "      <th>...</th>\n",
              "      <td>...</td>\n",
              "      <td>...</td>\n",
              "      <td>...</td>\n",
              "      <td>...</td>\n",
              "      <td>...</td>\n",
              "      <td>...</td>\n",
              "      <td>...</td>\n",
              "      <td>...</td>\n",
              "      <td>...</td>\n",
              "      <td>...</td>\n",
              "      <td>...</td>\n",
              "      <td>...</td>\n",
              "    </tr>\n",
              "    <tr>\n",
              "      <th>9235</th>\n",
              "      <td>0.0</td>\n",
              "      <td>4.0</td>\n",
              "      <td>1.0</td>\n",
              "      <td>1.0</td>\n",
              "      <td>0.0</td>\n",
              "      <td>4.0</td>\n",
              "      <td>9.0</td>\n",
              "      <td>8.0</td>\n",
              "      <td>25.0</td>\n",
              "      <td>8.0</td>\n",
              "      <td>1845</td>\n",
              "      <td>2.67</td>\n",
              "    </tr>\n",
              "    <tr>\n",
              "      <th>9236</th>\n",
              "      <td>0.0</td>\n",
              "      <td>12.0</td>\n",
              "      <td>0.0</td>\n",
              "      <td>1.0</td>\n",
              "      <td>0.0</td>\n",
              "      <td>4.0</td>\n",
              "      <td>9.0</td>\n",
              "      <td>11.0</td>\n",
              "      <td>12.0</td>\n",
              "      <td>2.0</td>\n",
              "      <td>238</td>\n",
              "      <td>2.00</td>\n",
              "    </tr>\n",
              "    <tr>\n",
              "      <th>9237</th>\n",
              "      <td>0.0</td>\n",
              "      <td>12.0</td>\n",
              "      <td>1.0</td>\n",
              "      <td>1.0</td>\n",
              "      <td>0.0</td>\n",
              "      <td>4.0</td>\n",
              "      <td>9.0</td>\n",
              "      <td>1.0</td>\n",
              "      <td>12.0</td>\n",
              "      <td>2.0</td>\n",
              "      <td>199</td>\n",
              "      <td>2.00</td>\n",
              "    </tr>\n",
              "    <tr>\n",
              "      <th>9238</th>\n",
              "      <td>0.0</td>\n",
              "      <td>12.0</td>\n",
              "      <td>0.0</td>\n",
              "      <td>1.0</td>\n",
              "      <td>3.0</td>\n",
              "      <td>6.0</td>\n",
              "      <td>3.0</td>\n",
              "      <td>7.0</td>\n",
              "      <td>12.0</td>\n",
              "      <td>3.0</td>\n",
              "      <td>499</td>\n",
              "      <td>3.00</td>\n",
              "    </tr>\n",
              "    <tr>\n",
              "      <th>9239</th>\n",
              "      <td>0.0</td>\n",
              "      <td>12.0</td>\n",
              "      <td>0.0</td>\n",
              "      <td>1.0</td>\n",
              "      <td>0.0</td>\n",
              "      <td>4.0</td>\n",
              "      <td>9.0</td>\n",
              "      <td>16.0</td>\n",
              "      <td>3.0</td>\n",
              "      <td>6.0</td>\n",
              "      <td>1279</td>\n",
              "      <td>3.00</td>\n",
              "    </tr>\n",
              "  </tbody>\n",
              "</table>\n",
              "<p>9240 rows × 12 columns</p>\n",
              "</div>\n",
              "      <button class=\"colab-df-convert\" onclick=\"convertToInteractive('df-8cf57346-87df-427c-be23-bf3c1955e126')\"\n",
              "              title=\"Convert this dataframe to an interactive table.\"\n",
              "              style=\"display:none;\">\n",
              "        \n",
              "  <svg xmlns=\"http://www.w3.org/2000/svg\" height=\"24px\"viewBox=\"0 0 24 24\"\n",
              "       width=\"24px\">\n",
              "    <path d=\"M0 0h24v24H0V0z\" fill=\"none\"/>\n",
              "    <path d=\"M18.56 5.44l.94 2.06.94-2.06 2.06-.94-2.06-.94-.94-2.06-.94 2.06-2.06.94zm-11 1L8.5 8.5l.94-2.06 2.06-.94-2.06-.94L8.5 2.5l-.94 2.06-2.06.94zm10 10l.94 2.06.94-2.06 2.06-.94-2.06-.94-.94-2.06-.94 2.06-2.06.94z\"/><path d=\"M17.41 7.96l-1.37-1.37c-.4-.4-.92-.59-1.43-.59-.52 0-1.04.2-1.43.59L10.3 9.45l-7.72 7.72c-.78.78-.78 2.05 0 2.83L4 21.41c.39.39.9.59 1.41.59.51 0 1.02-.2 1.41-.59l7.78-7.78 2.81-2.81c.8-.78.8-2.07 0-2.86zM5.41 20L4 18.59l7.72-7.72 1.47 1.35L5.41 20z\"/>\n",
              "  </svg>\n",
              "      </button>\n",
              "      \n",
              "  <style>\n",
              "    .colab-df-container {\n",
              "      display:flex;\n",
              "      flex-wrap:wrap;\n",
              "      gap: 12px;\n",
              "    }\n",
              "\n",
              "    .colab-df-convert {\n",
              "      background-color: #E8F0FE;\n",
              "      border: none;\n",
              "      border-radius: 50%;\n",
              "      cursor: pointer;\n",
              "      display: none;\n",
              "      fill: #1967D2;\n",
              "      height: 32px;\n",
              "      padding: 0 0 0 0;\n",
              "      width: 32px;\n",
              "    }\n",
              "\n",
              "    .colab-df-convert:hover {\n",
              "      background-color: #E2EBFA;\n",
              "      box-shadow: 0px 1px 2px rgba(60, 64, 67, 0.3), 0px 1px 3px 1px rgba(60, 64, 67, 0.15);\n",
              "      fill: #174EA6;\n",
              "    }\n",
              "\n",
              "    [theme=dark] .colab-df-convert {\n",
              "      background-color: #3B4455;\n",
              "      fill: #D2E3FC;\n",
              "    }\n",
              "\n",
              "    [theme=dark] .colab-df-convert:hover {\n",
              "      background-color: #434B5C;\n",
              "      box-shadow: 0px 1px 3px 1px rgba(0, 0, 0, 0.15);\n",
              "      filter: drop-shadow(0px 1px 2px rgba(0, 0, 0, 0.3));\n",
              "      fill: #FFFFFF;\n",
              "    }\n",
              "  </style>\n",
              "\n",
              "      <script>\n",
              "        const buttonEl =\n",
              "          document.querySelector('#df-8cf57346-87df-427c-be23-bf3c1955e126 button.colab-df-convert');\n",
              "        buttonEl.style.display =\n",
              "          google.colab.kernel.accessAllowed ? 'block' : 'none';\n",
              "\n",
              "        async function convertToInteractive(key) {\n",
              "          const element = document.querySelector('#df-8cf57346-87df-427c-be23-bf3c1955e126');\n",
              "          const dataTable =\n",
              "            await google.colab.kernel.invokeFunction('convertToInteractive',\n",
              "                                                     [key], {});\n",
              "          if (!dataTable) return;\n",
              "\n",
              "          const docLinkHtml = 'Like what you see? Visit the ' +\n",
              "            '<a target=\"_blank\" href=https://colab.research.google.com/notebooks/data_table.ipynb>data table notebook</a>'\n",
              "            + ' to learn more about interactive tables.';\n",
              "          element.innerHTML = '';\n",
              "          dataTable['output_type'] = 'display_data';\n",
              "          await google.colab.output.renderOutput(dataTable, element);\n",
              "          const docLink = document.createElement('div');\n",
              "          docLink.innerHTML = docLinkHtml;\n",
              "          element.appendChild(docLink);\n",
              "        }\n",
              "      </script>\n",
              "    </div>\n",
              "  </div>\n",
              "  "
            ],
            "text/plain": [
              "      Do_Not_Call  ...  Page Views Per Visit\n",
              "0             0.0  ...                  0.00\n",
              "1             0.0  ...                  2.50\n",
              "2             0.0  ...                  2.00\n",
              "3             0.0  ...                  1.00\n",
              "4             0.0  ...                  1.00\n",
              "...           ...  ...                   ...\n",
              "9235          0.0  ...                  2.67\n",
              "9236          0.0  ...                  2.00\n",
              "9237          0.0  ...                  2.00\n",
              "9238          0.0  ...                  3.00\n",
              "9239          0.0  ...                  3.00\n",
              "\n",
              "[9240 rows x 12 columns]"
            ]
          },
          "metadata": {},
          "execution_count": 16
        }
      ]
    },
    {
      "cell_type": "code",
      "execution_count": 17,
      "metadata": {
        "id": "QBQ3AjTrKIyP"
      },
      "outputs": [],
      "source": [
        "from sklearn.preprocessing import OneHotEncoder\n",
        "cat_encoder = OneHotEncoder()\n",
        "Email_cat_1hot = cat_encoder.fit_transform(dfa[[\"Do Not Email\"]])\n",
        "Email=Email_cat_1hot.toarray()"
      ]
    },
    {
      "cell_type": "code",
      "execution_count": 18,
      "metadata": {
        "id": "l6zpxpPfTeG_"
      },
      "outputs": [],
      "source": [
        "Call_cat_1hot = cat_encoder.fit_transform(dfa[[\"Do Not Call\"]])\n",
        "\n",
        "Call=Call_cat_1hot.toarray()"
      ]
    },
    {
      "cell_type": "code",
      "source": [
        "corr_matrix = x.corr()\n",
        "corr_matrix"
      ],
      "metadata": {
        "colab": {
          "base_uri": "https://localhost:8080/",
          "height": 576
        },
        "id": "ZkxaV5FY_fgL",
        "outputId": "02dc83d0-9e5a-4810-cfe4-99922c388b52"
      },
      "execution_count": 20,
      "outputs": [
        {
          "output_type": "execute_result",
          "data": {
            "text/html": [
              "\n",
              "  <div id=\"df-ff51d4b7-7608-4ec4-b6ea-02536595d7a2\">\n",
              "    <div class=\"colab-df-container\">\n",
              "      <div>\n",
              "<style scoped>\n",
              "    .dataframe tbody tr th:only-of-type {\n",
              "        vertical-align: middle;\n",
              "    }\n",
              "\n",
              "    .dataframe tbody tr th {\n",
              "        vertical-align: top;\n",
              "    }\n",
              "\n",
              "    .dataframe thead th {\n",
              "        text-align: right;\n",
              "    }\n",
              "</style>\n",
              "<table border=\"1\" class=\"dataframe\">\n",
              "  <thead>\n",
              "    <tr style=\"text-align: right;\">\n",
              "      <th></th>\n",
              "      <th>Do_Not_Call</th>\n",
              "      <th>Last_Activity</th>\n",
              "      <th>Do_Not_Email</th>\n",
              "      <th>Origin</th>\n",
              "      <th>matters_most</th>\n",
              "      <th>Current_Occupation</th>\n",
              "      <th>about_Us</th>\n",
              "      <th>Specialization</th>\n",
              "      <th>Country</th>\n",
              "      <th>TotalVisits</th>\n",
              "      <th>Total Time Spent on Website</th>\n",
              "      <th>Page Views Per Visit</th>\n",
              "    </tr>\n",
              "  </thead>\n",
              "  <tbody>\n",
              "    <tr>\n",
              "      <th>Do_Not_Call</th>\n",
              "      <td>1.000000</td>\n",
              "      <td>-0.003161</td>\n",
              "      <td>-0.004322</td>\n",
              "      <td>0.006909</td>\n",
              "      <td>-0.009481</td>\n",
              "      <td>-0.009691</td>\n",
              "      <td>-0.017388</td>\n",
              "      <td>-0.009536</td>\n",
              "      <td>0.007109</td>\n",
              "      <td>0.003364</td>\n",
              "      <td>0.006801</td>\n",
              "      <td>-0.005628</td>\n",
              "    </tr>\n",
              "    <tr>\n",
              "      <th>Last_Activity</th>\n",
              "      <td>-0.003161</td>\n",
              "      <td>1.000000</td>\n",
              "      <td>-0.038383</td>\n",
              "      <td>0.108448</td>\n",
              "      <td>-0.084619</td>\n",
              "      <td>-0.042727</td>\n",
              "      <td>-0.005202</td>\n",
              "      <td>-0.003297</td>\n",
              "      <td>0.085702</td>\n",
              "      <td>0.039303</td>\n",
              "      <td>0.086314</td>\n",
              "      <td>0.031586</td>\n",
              "    </tr>\n",
              "    <tr>\n",
              "      <th>Do_Not_Email</th>\n",
              "      <td>-0.004322</td>\n",
              "      <td>-0.038383</td>\n",
              "      <td>1.000000</td>\n",
              "      <td>0.053296</td>\n",
              "      <td>0.058640</td>\n",
              "      <td>0.034835</td>\n",
              "      <td>0.059454</td>\n",
              "      <td>-0.011241</td>\n",
              "      <td>-0.033520</td>\n",
              "      <td>0.033736</td>\n",
              "      <td>-0.046374</td>\n",
              "      <td>0.033445</td>\n",
              "    </tr>\n",
              "    <tr>\n",
              "      <th>Origin</th>\n",
              "      <td>0.006909</td>\n",
              "      <td>0.108448</td>\n",
              "      <td>0.053296</td>\n",
              "      <td>1.000000</td>\n",
              "      <td>-0.230645</td>\n",
              "      <td>-0.182637</td>\n",
              "      <td>-0.172772</td>\n",
              "      <td>-0.453538</td>\n",
              "      <td>-0.049019</td>\n",
              "      <td>0.056882</td>\n",
              "      <td>0.088852</td>\n",
              "      <td>0.110814</td>\n",
              "    </tr>\n",
              "    <tr>\n",
              "      <th>matters_most</th>\n",
              "      <td>-0.009481</td>\n",
              "      <td>-0.084619</td>\n",
              "      <td>0.058640</td>\n",
              "      <td>-0.230645</td>\n",
              "      <td>1.000000</td>\n",
              "      <td>0.918750</td>\n",
              "      <td>0.042375</td>\n",
              "      <td>0.183554</td>\n",
              "      <td>0.070886</td>\n",
              "      <td>-0.040340</td>\n",
              "      <td>-0.150857</td>\n",
              "      <td>-0.066075</td>\n",
              "    </tr>\n",
              "    <tr>\n",
              "      <th>Current_Occupation</th>\n",
              "      <td>-0.009691</td>\n",
              "      <td>-0.042727</td>\n",
              "      <td>0.034835</td>\n",
              "      <td>-0.182637</td>\n",
              "      <td>0.918750</td>\n",
              "      <td>1.000000</td>\n",
              "      <td>0.035806</td>\n",
              "      <td>0.136261</td>\n",
              "      <td>0.079134</td>\n",
              "      <td>-0.044540</td>\n",
              "      <td>-0.119172</td>\n",
              "      <td>-0.064075</td>\n",
              "    </tr>\n",
              "    <tr>\n",
              "      <th>about_Us</th>\n",
              "      <td>-0.017388</td>\n",
              "      <td>-0.005202</td>\n",
              "      <td>0.059454</td>\n",
              "      <td>-0.172772</td>\n",
              "      <td>0.042375</td>\n",
              "      <td>0.035806</td>\n",
              "      <td>1.000000</td>\n",
              "      <td>0.294928</td>\n",
              "      <td>0.274174</td>\n",
              "      <td>-0.158100</td>\n",
              "      <td>-0.157505</td>\n",
              "      <td>-0.238049</td>\n",
              "    </tr>\n",
              "    <tr>\n",
              "      <th>Specialization</th>\n",
              "      <td>-0.009536</td>\n",
              "      <td>-0.003297</td>\n",
              "      <td>-0.011241</td>\n",
              "      <td>-0.453538</td>\n",
              "      <td>0.183554</td>\n",
              "      <td>0.136261</td>\n",
              "      <td>0.294928</td>\n",
              "      <td>1.000000</td>\n",
              "      <td>0.375436</td>\n",
              "      <td>-0.192103</td>\n",
              "      <td>-0.225192</td>\n",
              "      <td>-0.313872</td>\n",
              "    </tr>\n",
              "    <tr>\n",
              "      <th>Country</th>\n",
              "      <td>0.007109</td>\n",
              "      <td>0.085702</td>\n",
              "      <td>-0.033520</td>\n",
              "      <td>-0.049019</td>\n",
              "      <td>0.070886</td>\n",
              "      <td>0.079134</td>\n",
              "      <td>0.274174</td>\n",
              "      <td>0.375436</td>\n",
              "      <td>1.000000</td>\n",
              "      <td>-0.386901</td>\n",
              "      <td>-0.426369</td>\n",
              "      <td>-0.593980</td>\n",
              "    </tr>\n",
              "    <tr>\n",
              "      <th>TotalVisits</th>\n",
              "      <td>0.003364</td>\n",
              "      <td>0.039303</td>\n",
              "      <td>0.033736</td>\n",
              "      <td>0.056882</td>\n",
              "      <td>-0.040340</td>\n",
              "      <td>-0.044540</td>\n",
              "      <td>-0.158100</td>\n",
              "      <td>-0.192103</td>\n",
              "      <td>-0.386901</td>\n",
              "      <td>1.000000</td>\n",
              "      <td>0.209468</td>\n",
              "      <td>0.517122</td>\n",
              "    </tr>\n",
              "    <tr>\n",
              "      <th>Total Time Spent on Website</th>\n",
              "      <td>0.006801</td>\n",
              "      <td>0.086314</td>\n",
              "      <td>-0.046374</td>\n",
              "      <td>0.088852</td>\n",
              "      <td>-0.150857</td>\n",
              "      <td>-0.119172</td>\n",
              "      <td>-0.157505</td>\n",
              "      <td>-0.225192</td>\n",
              "      <td>-0.426369</td>\n",
              "      <td>0.209468</td>\n",
              "      <td>1.000000</td>\n",
              "      <td>0.301036</td>\n",
              "    </tr>\n",
              "    <tr>\n",
              "      <th>Page Views Per Visit</th>\n",
              "      <td>-0.005628</td>\n",
              "      <td>0.031586</td>\n",
              "      <td>0.033445</td>\n",
              "      <td>0.110814</td>\n",
              "      <td>-0.066075</td>\n",
              "      <td>-0.064075</td>\n",
              "      <td>-0.238049</td>\n",
              "      <td>-0.313872</td>\n",
              "      <td>-0.593980</td>\n",
              "      <td>0.517122</td>\n",
              "      <td>0.301036</td>\n",
              "      <td>1.000000</td>\n",
              "    </tr>\n",
              "  </tbody>\n",
              "</table>\n",
              "</div>\n",
              "      <button class=\"colab-df-convert\" onclick=\"convertToInteractive('df-ff51d4b7-7608-4ec4-b6ea-02536595d7a2')\"\n",
              "              title=\"Convert this dataframe to an interactive table.\"\n",
              "              style=\"display:none;\">\n",
              "        \n",
              "  <svg xmlns=\"http://www.w3.org/2000/svg\" height=\"24px\"viewBox=\"0 0 24 24\"\n",
              "       width=\"24px\">\n",
              "    <path d=\"M0 0h24v24H0V0z\" fill=\"none\"/>\n",
              "    <path d=\"M18.56 5.44l.94 2.06.94-2.06 2.06-.94-2.06-.94-.94-2.06-.94 2.06-2.06.94zm-11 1L8.5 8.5l.94-2.06 2.06-.94-2.06-.94L8.5 2.5l-.94 2.06-2.06.94zm10 10l.94 2.06.94-2.06 2.06-.94-2.06-.94-.94-2.06-.94 2.06-2.06.94z\"/><path d=\"M17.41 7.96l-1.37-1.37c-.4-.4-.92-.59-1.43-.59-.52 0-1.04.2-1.43.59L10.3 9.45l-7.72 7.72c-.78.78-.78 2.05 0 2.83L4 21.41c.39.39.9.59 1.41.59.51 0 1.02-.2 1.41-.59l7.78-7.78 2.81-2.81c.8-.78.8-2.07 0-2.86zM5.41 20L4 18.59l7.72-7.72 1.47 1.35L5.41 20z\"/>\n",
              "  </svg>\n",
              "      </button>\n",
              "      \n",
              "  <style>\n",
              "    .colab-df-container {\n",
              "      display:flex;\n",
              "      flex-wrap:wrap;\n",
              "      gap: 12px;\n",
              "    }\n",
              "\n",
              "    .colab-df-convert {\n",
              "      background-color: #E8F0FE;\n",
              "      border: none;\n",
              "      border-radius: 50%;\n",
              "      cursor: pointer;\n",
              "      display: none;\n",
              "      fill: #1967D2;\n",
              "      height: 32px;\n",
              "      padding: 0 0 0 0;\n",
              "      width: 32px;\n",
              "    }\n",
              "\n",
              "    .colab-df-convert:hover {\n",
              "      background-color: #E2EBFA;\n",
              "      box-shadow: 0px 1px 2px rgba(60, 64, 67, 0.3), 0px 1px 3px 1px rgba(60, 64, 67, 0.15);\n",
              "      fill: #174EA6;\n",
              "    }\n",
              "\n",
              "    [theme=dark] .colab-df-convert {\n",
              "      background-color: #3B4455;\n",
              "      fill: #D2E3FC;\n",
              "    }\n",
              "\n",
              "    [theme=dark] .colab-df-convert:hover {\n",
              "      background-color: #434B5C;\n",
              "      box-shadow: 0px 1px 3px 1px rgba(0, 0, 0, 0.15);\n",
              "      filter: drop-shadow(0px 1px 2px rgba(0, 0, 0, 0.3));\n",
              "      fill: #FFFFFF;\n",
              "    }\n",
              "  </style>\n",
              "\n",
              "      <script>\n",
              "        const buttonEl =\n",
              "          document.querySelector('#df-ff51d4b7-7608-4ec4-b6ea-02536595d7a2 button.colab-df-convert');\n",
              "        buttonEl.style.display =\n",
              "          google.colab.kernel.accessAllowed ? 'block' : 'none';\n",
              "\n",
              "        async function convertToInteractive(key) {\n",
              "          const element = document.querySelector('#df-ff51d4b7-7608-4ec4-b6ea-02536595d7a2');\n",
              "          const dataTable =\n",
              "            await google.colab.kernel.invokeFunction('convertToInteractive',\n",
              "                                                     [key], {});\n",
              "          if (!dataTable) return;\n",
              "\n",
              "          const docLinkHtml = 'Like what you see? Visit the ' +\n",
              "            '<a target=\"_blank\" href=https://colab.research.google.com/notebooks/data_table.ipynb>data table notebook</a>'\n",
              "            + ' to learn more about interactive tables.';\n",
              "          element.innerHTML = '';\n",
              "          dataTable['output_type'] = 'display_data';\n",
              "          await google.colab.output.renderOutput(dataTable, element);\n",
              "          const docLink = document.createElement('div');\n",
              "          docLink.innerHTML = docLinkHtml;\n",
              "          element.appendChild(docLink);\n",
              "        }\n",
              "      </script>\n",
              "    </div>\n",
              "  </div>\n",
              "  "
            ],
            "text/plain": [
              "                             Do_Not_Call  ...  Page Views Per Visit\n",
              "Do_Not_Call                     1.000000  ...             -0.005628\n",
              "Last_Activity                  -0.003161  ...              0.031586\n",
              "Do_Not_Email                   -0.004322  ...              0.033445\n",
              "Origin                          0.006909  ...              0.110814\n",
              "matters_most                   -0.009481  ...             -0.066075\n",
              "Current_Occupation             -0.009691  ...             -0.064075\n",
              "about_Us                       -0.017388  ...             -0.238049\n",
              "Specialization                 -0.009536  ...             -0.313872\n",
              "Country                         0.007109  ...             -0.593980\n",
              "TotalVisits                     0.003364  ...              0.517122\n",
              "Total Time Spent on Website     0.006801  ...              0.301036\n",
              "Page Views Per Visit           -0.005628  ...              1.000000\n",
              "\n",
              "[12 rows x 12 columns]"
            ]
          },
          "metadata": {},
          "execution_count": 20
        }
      ]
    },
    {
      "cell_type": "code",
      "source": [
        "x.columns"
      ],
      "metadata": {
        "colab": {
          "base_uri": "https://localhost:8080/"
        },
        "id": "T8cGHvnEOKJx",
        "outputId": "a6fb60d9-1040-4b2d-ccba-a3657a972390"
      },
      "execution_count": 21,
      "outputs": [
        {
          "output_type": "execute_result",
          "data": {
            "text/plain": [
              "Index(['Do_Not_Call', 'Last_Activity', 'Do_Not_Email', 'Origin',\n",
              "       'matters_most', 'Current_Occupation ', 'about_Us', 'Specialization',\n",
              "       'Country', 'TotalVisits', 'Total Time Spent on Website',\n",
              "       'Page Views Per Visit'],\n",
              "      dtype='object')"
            ]
          },
          "metadata": {},
          "execution_count": 21
        }
      ]
    },
    {
      "cell_type": "code",
      "source": [
        "Yb = pd.get_dummies(y).values\n",
        "Yb"
      ],
      "metadata": {
        "colab": {
          "base_uri": "https://localhost:8080/"
        },
        "id": "4VbGUBL_jqwE",
        "outputId": "89534b99-2f8e-4390-c8d5-d84f0afaf6fb"
      },
      "execution_count": 22,
      "outputs": [
        {
          "output_type": "execute_result",
          "data": {
            "text/plain": [
              "array([[1, 0],\n",
              "       [1, 0],\n",
              "       [0, 1],\n",
              "       ...,\n",
              "       [1, 0],\n",
              "       [0, 1],\n",
              "       [0, 1]], dtype=uint8)"
            ]
          },
          "metadata": {},
          "execution_count": 22
        }
      ]
    },
    {
      "cell_type": "code",
      "source": [
        "from sklearn.model_selection import train_test_split\n",
        "\n",
        "x_train,x_test,y_train,y_test = train_test_split(x,Yb,test_size = 0.25, random_state =42)"
      ],
      "metadata": {
        "id": "heUHU1B2gToo"
      },
      "execution_count": 23,
      "outputs": []
    },
    {
      "cell_type": "code",
      "source": [
        "import tensorflow as tf\n",
        "from tensorflow.keras.models import Sequential\n",
        "from tensorflow.keras.layers import Dense , InputLayer , Dropout"
      ],
      "metadata": {
        "id": "ceRlfMrhqpkz"
      },
      "execution_count": 24,
      "outputs": []
    },
    {
      "cell_type": "code",
      "source": [
        "model1 = Sequential()\n",
        "\n",
        "model1.add(Dense(6, input_shape = (12,),kernel_initializer='he_uniform',activation='relu'))\n",
        "model1.add(Dense(2, activation='softmax'))\n",
        "model1.summary()"
      ],
      "metadata": {
        "colab": {
          "base_uri": "https://localhost:8080/"
        },
        "id": "rb7j-hKjqyIx",
        "outputId": "3903c3f6-4fd0-444d-9b11-695bd0747b28"
      },
      "execution_count": 25,
      "outputs": [
        {
          "output_type": "stream",
          "name": "stdout",
          "text": [
            "Model: \"sequential\"\n",
            "_________________________________________________________________\n",
            " Layer (type)                Output Shape              Param #   \n",
            "=================================================================\n",
            " dense (Dense)               (None, 6)                 78        \n",
            "                                                                 \n",
            " dense_1 (Dense)             (None, 2)                 14        \n",
            "                                                                 \n",
            "=================================================================\n",
            "Total params: 92\n",
            "Trainable params: 92\n",
            "Non-trainable params: 0\n",
            "_________________________________________________________________\n"
          ]
        }
      ]
    },
    {
      "cell_type": "code",
      "source": [
        "model1.compile(optimizer=\"adam\",\n",
        "              loss= \"categorical_crossentropy\",\n",
        "              metrics=[\"accuracy\"])"
      ],
      "metadata": {
        "id": "YsacJa-Lq93y"
      },
      "execution_count": 26,
      "outputs": []
    },
    {
      "cell_type": "code",
      "source": [
        "model1.get_weights()"
      ],
      "metadata": {
        "colab": {
          "base_uri": "https://localhost:8080/"
        },
        "id": "XMWE6bmorC_W",
        "outputId": "8d9ce480-800a-4c09-ba33-7fd0420a7c74"
      },
      "execution_count": 27,
      "outputs": [
        {
          "output_type": "execute_result",
          "data": {
            "text/plain": [
              "[array([[ 0.5498701 , -0.4476022 ,  0.2886951 ,  0.2800166 , -0.65109026,\n",
              "          0.38344556],\n",
              "        [-0.61134595,  0.08024591, -0.63382536, -0.4673947 ,  0.32970315,\n",
              "          0.1778    ],\n",
              "        [ 0.24496573,  0.26891947, -0.10782158, -0.43276888, -0.59046686,\n",
              "         -0.39777893],\n",
              "        [-0.09657091,  0.5148738 ,  0.06836373, -0.31224322, -0.36543307,\n",
              "          0.5741702 ],\n",
              "        [-0.34673992,  0.5369144 , -0.28280148, -0.43530595,  0.02755761,\n",
              "          0.03174734],\n",
              "        [ 0.64081293, -0.6197065 , -0.02716112, -0.18211281,  0.20535308,\n",
              "         -0.08148402],\n",
              "        [-0.13462055, -0.13798356,  0.45258957,  0.6703492 ,  0.01605237,\n",
              "         -0.6420344 ],\n",
              "        [-0.46214205,  0.62505406,  0.05684465, -0.04522878,  0.5929474 ,\n",
              "         -0.31533042],\n",
              "        [-0.37793684,  0.4593976 ,  0.46654385, -0.37416068, -0.5179131 ,\n",
              "          0.6624386 ],\n",
              "        [ 0.5685062 , -0.53263956, -0.28116667,  0.09937078,  0.43925804,\n",
              "          0.14830613],\n",
              "        [-0.69457805,  0.3761539 ,  0.5922106 , -0.6288471 ,  0.35965055,\n",
              "         -0.33500168],\n",
              "        [-0.5284434 , -0.41556117,  0.5608594 , -0.45215306, -0.15049946,\n",
              "          0.48743373]], dtype=float32),\n",
              " array([0., 0., 0., 0., 0., 0.], dtype=float32),\n",
              " array([[ 0.48720533, -0.80765945],\n",
              "        [ 0.68836683, -0.24535006],\n",
              "        [ 0.08831537, -0.66600186],\n",
              "        [ 0.40578383, -0.28025454],\n",
              "        [-0.8180111 , -0.45672715],\n",
              "        [-0.30178982,  0.21484715]], dtype=float32),\n",
              " array([0., 0.], dtype=float32)]"
            ]
          },
          "metadata": {},
          "execution_count": 27
        }
      ]
    },
    {
      "cell_type": "code",
      "source": [
        "model1.fit(x_train, y_train, epochs= 100)"
      ],
      "metadata": {
        "colab": {
          "base_uri": "https://localhost:8080/"
        },
        "id": "THw-Q0C1rMDj",
        "outputId": "b52a6a24-4c54-4196-c550-0bacea17a575"
      },
      "execution_count": 28,
      "outputs": [
        {
          "output_type": "stream",
          "name": "stdout",
          "text": [
            "Epoch 1/100\n",
            "217/217 [==============================] - 1s 2ms/step - loss: 71.2755 - accuracy: 0.5492\n",
            "Epoch 2/100\n",
            "217/217 [==============================] - 0s 2ms/step - loss: 1.5800 - accuracy: 0.6309\n",
            "Epoch 3/100\n",
            "217/217 [==============================] - 0s 2ms/step - loss: 1.0749 - accuracy: 0.7450\n",
            "Epoch 4/100\n",
            "217/217 [==============================] - 0s 2ms/step - loss: 0.9611 - accuracy: 0.7479\n",
            "Epoch 5/100\n",
            "217/217 [==============================] - 0s 2ms/step - loss: 0.8666 - accuracy: 0.7579\n",
            "Epoch 6/100\n",
            "217/217 [==============================] - 0s 2ms/step - loss: 0.7996 - accuracy: 0.7502\n",
            "Epoch 7/100\n",
            "217/217 [==============================] - 0s 2ms/step - loss: 0.7394 - accuracy: 0.7473\n",
            "Epoch 8/100\n",
            "217/217 [==============================] - 0s 2ms/step - loss: 0.6499 - accuracy: 0.7545\n",
            "Epoch 9/100\n",
            "217/217 [==============================] - 0s 2ms/step - loss: 0.6304 - accuracy: 0.7517\n",
            "Epoch 10/100\n",
            "217/217 [==============================] - 0s 2ms/step - loss: 0.5903 - accuracy: 0.7618\n",
            "Epoch 11/100\n",
            "217/217 [==============================] - 0s 2ms/step - loss: 0.6224 - accuracy: 0.7492\n",
            "Epoch 12/100\n",
            "217/217 [==============================] - 0s 2ms/step - loss: 0.5536 - accuracy: 0.7596\n",
            "Epoch 13/100\n",
            "217/217 [==============================] - 0s 2ms/step - loss: 0.5581 - accuracy: 0.7626\n",
            "Epoch 14/100\n",
            "217/217 [==============================] - 0s 2ms/step - loss: 0.5449 - accuracy: 0.7610\n",
            "Epoch 15/100\n",
            "217/217 [==============================] - 0s 2ms/step - loss: 0.5138 - accuracy: 0.7683\n",
            "Epoch 16/100\n",
            "217/217 [==============================] - 0s 2ms/step - loss: 0.5177 - accuracy: 0.7600\n",
            "Epoch 17/100\n",
            "217/217 [==============================] - 0s 2ms/step - loss: 0.5031 - accuracy: 0.7675\n",
            "Epoch 18/100\n",
            "217/217 [==============================] - 0s 2ms/step - loss: 0.5482 - accuracy: 0.7561\n",
            "Epoch 19/100\n",
            "217/217 [==============================] - 0s 2ms/step - loss: 0.5113 - accuracy: 0.7726\n",
            "Epoch 20/100\n",
            "217/217 [==============================] - 0s 2ms/step - loss: 0.5150 - accuracy: 0.7670\n",
            "Epoch 21/100\n",
            "217/217 [==============================] - 0s 2ms/step - loss: 0.5208 - accuracy: 0.7694\n",
            "Epoch 22/100\n",
            "217/217 [==============================] - 0s 2ms/step - loss: 0.5085 - accuracy: 0.7710\n",
            "Epoch 23/100\n",
            "217/217 [==============================] - 0s 2ms/step - loss: 0.5024 - accuracy: 0.7729\n",
            "Epoch 24/100\n",
            "217/217 [==============================] - 0s 2ms/step - loss: 0.5108 - accuracy: 0.7746\n",
            "Epoch 25/100\n",
            "217/217 [==============================] - 0s 2ms/step - loss: 0.5325 - accuracy: 0.7667\n",
            "Epoch 26/100\n",
            "217/217 [==============================] - 0s 2ms/step - loss: 0.5039 - accuracy: 0.7753\n",
            "Epoch 27/100\n",
            "217/217 [==============================] - 0s 2ms/step - loss: 0.4854 - accuracy: 0.7801\n",
            "Epoch 28/100\n",
            "217/217 [==============================] - 0s 2ms/step - loss: 0.4908 - accuracy: 0.7773\n",
            "Epoch 29/100\n",
            "217/217 [==============================] - 0s 2ms/step - loss: 0.5007 - accuracy: 0.7740\n",
            "Epoch 30/100\n",
            "217/217 [==============================] - 0s 2ms/step - loss: 0.5328 - accuracy: 0.7693\n",
            "Epoch 31/100\n",
            "217/217 [==============================] - 0s 2ms/step - loss: 0.5565 - accuracy: 0.7711\n",
            "Epoch 32/100\n",
            "217/217 [==============================] - 0s 2ms/step - loss: 0.5402 - accuracy: 0.7646\n",
            "Epoch 33/100\n",
            "217/217 [==============================] - 0s 2ms/step - loss: 0.5083 - accuracy: 0.7717\n",
            "Epoch 34/100\n",
            "217/217 [==============================] - 0s 2ms/step - loss: 0.4983 - accuracy: 0.7750\n",
            "Epoch 35/100\n",
            "217/217 [==============================] - 0s 2ms/step - loss: 0.5274 - accuracy: 0.7704\n",
            "Epoch 36/100\n",
            "217/217 [==============================] - 0s 2ms/step - loss: 0.4982 - accuracy: 0.7794\n",
            "Epoch 37/100\n",
            "217/217 [==============================] - 0s 2ms/step - loss: 0.4848 - accuracy: 0.7854\n",
            "Epoch 38/100\n",
            "217/217 [==============================] - 1s 4ms/step - loss: 0.5108 - accuracy: 0.7713\n",
            "Epoch 39/100\n",
            "217/217 [==============================] - 1s 5ms/step - loss: 0.5204 - accuracy: 0.7724\n",
            "Epoch 40/100\n",
            "217/217 [==============================] - 0s 2ms/step - loss: 0.5371 - accuracy: 0.7716\n",
            "Epoch 41/100\n",
            "217/217 [==============================] - 0s 2ms/step - loss: 0.5282 - accuracy: 0.7675\n",
            "Epoch 42/100\n",
            "217/217 [==============================] - 0s 2ms/step - loss: 0.4920 - accuracy: 0.7825\n",
            "Epoch 43/100\n",
            "217/217 [==============================] - 0s 2ms/step - loss: 0.5133 - accuracy: 0.7775\n",
            "Epoch 44/100\n",
            "217/217 [==============================] - 0s 2ms/step - loss: 0.5315 - accuracy: 0.7691\n",
            "Epoch 45/100\n",
            "217/217 [==============================] - 0s 2ms/step - loss: 0.5220 - accuracy: 0.7691\n",
            "Epoch 46/100\n",
            "217/217 [==============================] - 0s 2ms/step - loss: 0.5073 - accuracy: 0.7727\n",
            "Epoch 47/100\n",
            "217/217 [==============================] - 0s 2ms/step - loss: 0.5108 - accuracy: 0.7759\n",
            "Epoch 48/100\n",
            "217/217 [==============================] - 0s 2ms/step - loss: 0.5090 - accuracy: 0.7771\n",
            "Epoch 49/100\n",
            "217/217 [==============================] - 0s 2ms/step - loss: 0.4875 - accuracy: 0.7820\n",
            "Epoch 50/100\n",
            "217/217 [==============================] - 0s 2ms/step - loss: 0.4948 - accuracy: 0.7763\n",
            "Epoch 51/100\n",
            "217/217 [==============================] - 0s 2ms/step - loss: 0.5170 - accuracy: 0.7772\n",
            "Epoch 52/100\n",
            "217/217 [==============================] - 0s 2ms/step - loss: 0.4893 - accuracy: 0.7814\n",
            "Epoch 53/100\n",
            "217/217 [==============================] - 0s 2ms/step - loss: 0.4852 - accuracy: 0.7854\n",
            "Epoch 54/100\n",
            "217/217 [==============================] - 0s 2ms/step - loss: 0.5342 - accuracy: 0.7683\n",
            "Epoch 55/100\n",
            "217/217 [==============================] - 0s 2ms/step - loss: 0.5123 - accuracy: 0.7693\n",
            "Epoch 56/100\n",
            "217/217 [==============================] - 0s 2ms/step - loss: 0.5012 - accuracy: 0.7724\n",
            "Epoch 57/100\n",
            "217/217 [==============================] - 0s 2ms/step - loss: 0.5407 - accuracy: 0.7727\n",
            "Epoch 58/100\n",
            "217/217 [==============================] - 0s 2ms/step - loss: 0.4909 - accuracy: 0.7831\n",
            "Epoch 59/100\n",
            "217/217 [==============================] - 0s 2ms/step - loss: 0.4908 - accuracy: 0.7843\n",
            "Epoch 60/100\n",
            "217/217 [==============================] - 0s 2ms/step - loss: 0.4853 - accuracy: 0.7804\n",
            "Epoch 61/100\n",
            "217/217 [==============================] - 0s 2ms/step - loss: 0.4942 - accuracy: 0.7817\n",
            "Epoch 62/100\n",
            "217/217 [==============================] - 0s 2ms/step - loss: 0.4932 - accuracy: 0.7778\n",
            "Epoch 63/100\n",
            "217/217 [==============================] - 0s 2ms/step - loss: 0.5098 - accuracy: 0.7717\n",
            "Epoch 64/100\n",
            "217/217 [==============================] - 0s 2ms/step - loss: 0.5046 - accuracy: 0.7772\n",
            "Epoch 65/100\n",
            "217/217 [==============================] - 0s 2ms/step - loss: 0.5073 - accuracy: 0.7759\n",
            "Epoch 66/100\n",
            "217/217 [==============================] - 0s 2ms/step - loss: 0.4816 - accuracy: 0.7847\n",
            "Epoch 67/100\n",
            "217/217 [==============================] - 0s 2ms/step - loss: 0.5059 - accuracy: 0.7854\n",
            "Epoch 68/100\n",
            "217/217 [==============================] - 0s 2ms/step - loss: 0.5090 - accuracy: 0.7768\n",
            "Epoch 69/100\n",
            "217/217 [==============================] - 0s 2ms/step - loss: 0.5018 - accuracy: 0.7772\n",
            "Epoch 70/100\n",
            "217/217 [==============================] - 0s 2ms/step - loss: 0.5200 - accuracy: 0.7776\n",
            "Epoch 71/100\n",
            "217/217 [==============================] - 0s 2ms/step - loss: 0.4974 - accuracy: 0.7786\n",
            "Epoch 72/100\n",
            "217/217 [==============================] - 0s 2ms/step - loss: 0.4886 - accuracy: 0.7844\n",
            "Epoch 73/100\n",
            "217/217 [==============================] - 0s 2ms/step - loss: 0.5173 - accuracy: 0.7750\n",
            "Epoch 74/100\n",
            "217/217 [==============================] - 0s 2ms/step - loss: 0.5475 - accuracy: 0.7739\n",
            "Epoch 75/100\n",
            "217/217 [==============================] - 0s 2ms/step - loss: 0.4939 - accuracy: 0.7859\n",
            "Epoch 76/100\n",
            "217/217 [==============================] - 0s 2ms/step - loss: 0.5143 - accuracy: 0.7747\n",
            "Epoch 77/100\n",
            "217/217 [==============================] - 0s 2ms/step - loss: 0.5054 - accuracy: 0.7788\n",
            "Epoch 78/100\n",
            "217/217 [==============================] - 0s 2ms/step - loss: 0.4902 - accuracy: 0.7798\n",
            "Epoch 79/100\n",
            "217/217 [==============================] - 0s 2ms/step - loss: 0.4907 - accuracy: 0.7846\n",
            "Epoch 80/100\n",
            "217/217 [==============================] - 0s 2ms/step - loss: 0.4957 - accuracy: 0.7781\n",
            "Epoch 81/100\n",
            "217/217 [==============================] - 0s 2ms/step - loss: 0.4830 - accuracy: 0.7900\n",
            "Epoch 82/100\n",
            "217/217 [==============================] - 0s 2ms/step - loss: 0.5058 - accuracy: 0.7792\n",
            "Epoch 83/100\n",
            "217/217 [==============================] - 0s 2ms/step - loss: 0.5040 - accuracy: 0.7785\n",
            "Epoch 84/100\n",
            "217/217 [==============================] - 0s 2ms/step - loss: 0.5043 - accuracy: 0.7765\n",
            "Epoch 85/100\n",
            "217/217 [==============================] - 0s 2ms/step - loss: 0.5031 - accuracy: 0.7792\n",
            "Epoch 86/100\n",
            "217/217 [==============================] - 0s 2ms/step - loss: 0.4955 - accuracy: 0.7833\n",
            "Epoch 87/100\n",
            "217/217 [==============================] - 0s 2ms/step - loss: 0.4873 - accuracy: 0.7785\n",
            "Epoch 88/100\n",
            "217/217 [==============================] - 0s 2ms/step - loss: 0.4960 - accuracy: 0.7825\n",
            "Epoch 89/100\n",
            "217/217 [==============================] - 0s 2ms/step - loss: 0.4975 - accuracy: 0.7808\n",
            "Epoch 90/100\n",
            "217/217 [==============================] - 0s 2ms/step - loss: 0.5324 - accuracy: 0.7658\n",
            "Epoch 91/100\n",
            "217/217 [==============================] - 0s 2ms/step - loss: 0.4828 - accuracy: 0.7823\n",
            "Epoch 92/100\n",
            "217/217 [==============================] - 0s 2ms/step - loss: 0.5105 - accuracy: 0.7758\n",
            "Epoch 93/100\n",
            "217/217 [==============================] - 0s 2ms/step - loss: 0.4993 - accuracy: 0.7769\n",
            "Epoch 94/100\n",
            "217/217 [==============================] - 0s 2ms/step - loss: 0.4867 - accuracy: 0.7801\n",
            "Epoch 95/100\n",
            "217/217 [==============================] - 0s 2ms/step - loss: 0.4991 - accuracy: 0.7830\n",
            "Epoch 96/100\n",
            "217/217 [==============================] - 0s 2ms/step - loss: 0.4930 - accuracy: 0.7810\n",
            "Epoch 97/100\n",
            "217/217 [==============================] - 0s 2ms/step - loss: 0.4847 - accuracy: 0.7846\n",
            "Epoch 98/100\n",
            "217/217 [==============================] - 0s 2ms/step - loss: 0.4738 - accuracy: 0.7843\n",
            "Epoch 99/100\n",
            "217/217 [==============================] - 0s 2ms/step - loss: 0.5247 - accuracy: 0.7685\n",
            "Epoch 100/100\n",
            "217/217 [==============================] - 0s 2ms/step - loss: 0.5096 - accuracy: 0.7776\n"
          ]
        },
        {
          "output_type": "execute_result",
          "data": {
            "text/plain": [
              "<keras.callbacks.History at 0x7f1e6be7efd0>"
            ]
          },
          "metadata": {},
          "execution_count": 28
        }
      ]
    },
    {
      "cell_type": "code",
      "source": [
        "model1.evaluate(x_test,y_test)"
      ],
      "metadata": {
        "colab": {
          "base_uri": "https://localhost:8080/"
        },
        "id": "vtcB6NSRrRQF",
        "outputId": "ef1803a5-df5a-4240-ea31-680cd1723900"
      },
      "execution_count": 29,
      "outputs": [
        {
          "output_type": "stream",
          "name": "stdout",
          "text": [
            "73/73 [==============================] - 0s 2ms/step - loss: 0.4584 - accuracy: 0.7905\n"
          ]
        },
        {
          "output_type": "execute_result",
          "data": {
            "text/plain": [
              "[0.45843636989593506, 0.7904762029647827]"
            ]
          },
          "metadata": {},
          "execution_count": 29
        }
      ]
    },
    {
      "cell_type": "code",
      "source": [
        "y_predict1 = model1.predict(x_test)\n",
        "y_predict1"
      ],
      "metadata": {
        "colab": {
          "base_uri": "https://localhost:8080/"
        },
        "id": "6bSyJ8JTrjx9",
        "outputId": "1811c2d1-3d16-48e3-becb-7ad8a389f114"
      },
      "execution_count": 30,
      "outputs": [
        {
          "output_type": "execute_result",
          "data": {
            "text/plain": [
              "array([[0.72659993, 0.27340007],\n",
              "       [0.9612574 , 0.03874255],\n",
              "       [0.9985385 , 0.0014615 ],\n",
              "       ...,\n",
              "       [0.5500787 , 0.44992125],\n",
              "       [0.11403511, 0.8859649 ],\n",
              "       [0.9661874 , 0.03381262]], dtype=float32)"
            ]
          },
          "metadata": {},
          "execution_count": 30
        }
      ]
    },
    {
      "cell_type": "code",
      "source": [
        "import pickle\n",
        "pickle.dump(model1, open(\"AI-model.pkl\", \"wb\"))"
      ],
      "metadata": {
        "colab": {
          "base_uri": "https://localhost:8080/"
        },
        "id": "vACgG1iHhYAK",
        "outputId": "fd7508f8-9554-4216-8885-5d2a045c5377"
      },
      "execution_count": 32,
      "outputs": [
        {
          "output_type": "stream",
          "name": "stdout",
          "text": [
            "INFO:tensorflow:Assets written to: ram://7504c97e-febf-4ae7-83fc-5dc7a4ff1320/assets\n"
          ]
        }
      ]
    },
    {
      "cell_type": "code",
      "source": [
        "print(y_test)"
      ],
      "metadata": {
        "colab": {
          "base_uri": "https://localhost:8080/"
        },
        "id": "gM_3AYL3uT-J",
        "outputId": "6ff98e25-02e0-479e-c56a-a85256309bed"
      },
      "execution_count": 33,
      "outputs": [
        {
          "output_type": "stream",
          "name": "stdout",
          "text": [
            "[[0 1]\n",
            " [1 0]\n",
            " [1 0]\n",
            " ...\n",
            " [0 1]\n",
            " [1 0]\n",
            " [1 0]]\n"
          ]
        }
      ]
    },
    {
      "cell_type": "code",
      "source": [
        "y_test_class = np.argmax(y_test, axis=1)\n",
        "y_predict_class = np.argmax(y_predict1, axis=1)"
      ],
      "metadata": {
        "id": "_ITbB__RvaGq"
      },
      "execution_count": 34,
      "outputs": []
    },
    {
      "cell_type": "code",
      "source": [
        "y_test_class.shape"
      ],
      "metadata": {
        "colab": {
          "base_uri": "https://localhost:8080/"
        },
        "id": "ACd5zvqpvhvC",
        "outputId": "9f35db89-2fce-4a38-a7d1-6dd86030e1c6"
      },
      "execution_count": 35,
      "outputs": [
        {
          "output_type": "execute_result",
          "data": {
            "text/plain": [
              "(2310,)"
            ]
          },
          "metadata": {},
          "execution_count": 35
        }
      ]
    },
    {
      "cell_type": "code",
      "source": [
        "y_test_class"
      ],
      "metadata": {
        "colab": {
          "base_uri": "https://localhost:8080/"
        },
        "id": "_psG0BxhvoPB",
        "outputId": "741ae6dc-fc91-4ccc-8c25-50c184b0da81"
      },
      "execution_count": 36,
      "outputs": [
        {
          "output_type": "execute_result",
          "data": {
            "text/plain": [
              "array([1, 0, 0, ..., 1, 0, 0])"
            ]
          },
          "metadata": {},
          "execution_count": 36
        }
      ]
    },
    {
      "cell_type": "code",
      "source": [
        "y_predict_class.shape"
      ],
      "metadata": {
        "colab": {
          "base_uri": "https://localhost:8080/"
        },
        "id": "MUauooNQvv-c",
        "outputId": "f6b38f74-749d-49a4-a6a1-ec0755223099"
      },
      "execution_count": 37,
      "outputs": [
        {
          "output_type": "execute_result",
          "data": {
            "text/plain": [
              "(2310,)"
            ]
          },
          "metadata": {},
          "execution_count": 37
        }
      ]
    },
    {
      "cell_type": "code",
      "source": [
        "y_predict_class"
      ],
      "metadata": {
        "colab": {
          "base_uri": "https://localhost:8080/"
        },
        "id": "BOXahc5sv35z",
        "outputId": "20433472-71c8-4b0e-d5d3-2832c2b473cd"
      },
      "execution_count": 38,
      "outputs": [
        {
          "output_type": "execute_result",
          "data": {
            "text/plain": [
              "array([0, 0, 0, ..., 0, 1, 0])"
            ]
          },
          "metadata": {},
          "execution_count": 38
        }
      ]
    },
    {
      "cell_type": "code",
      "source": [
        "from sklearn.metrics import confusion_matrix,classification_report\n",
        "print(classification_report(y_test_class, y_predict_class))\n",
        "print(confusion_matrix (y_test_class, y_predict_class))"
      ],
      "metadata": {
        "colab": {
          "base_uri": "https://localhost:8080/"
        },
        "id": "6vInV6Ecwk2d",
        "outputId": "a49495b1-9f67-4a01-e8c3-803e9d69a62c"
      },
      "execution_count": 39,
      "outputs": [
        {
          "output_type": "stream",
          "name": "stdout",
          "text": [
            "              precision    recall  f1-score   support\n",
            "\n",
            "           0       0.85      0.80      0.82      1404\n",
            "           1       0.71      0.78      0.74       906\n",
            "\n",
            "    accuracy                           0.79      2310\n",
            "   macro avg       0.78      0.79      0.78      2310\n",
            "weighted avg       0.80      0.79      0.79      2310\n",
            "\n",
            "[[1119  285]\n",
            " [ 199  707]]\n"
          ]
        }
      ]
    },
    {
      "cell_type": "code",
      "source": [
        "dfa.columns"
      ],
      "metadata": {
        "colab": {
          "base_uri": "https://localhost:8080/"
        },
        "id": "FIPrrjJ1B8iB",
        "outputId": "75bfb42d-582c-4103-9c10-615beabc5f4e"
      },
      "execution_count": 40,
      "outputs": [
        {
          "output_type": "execute_result",
          "data": {
            "text/plain": [
              "Index(['ID', 'Purchased', 'Do Not Email', 'Do Not Call', 'TotalVisits',\n",
              "       'Total Time Spent on Website', 'Page Views Per Visit', 'Specialization',\n",
              "       'Origin', 'income_cat'],\n",
              "      dtype='object')"
            ]
          },
          "metadata": {},
          "execution_count": 40
        }
      ]
    },
    {
      "cell_type": "code",
      "source": [
        "dft = pd.DataFrame({'Purchased':Y.flatten()})\n",
        "\n",
        "\n",
        "dft['Email']=pd.DataFrame({'Email':Email.flatten()})\n",
        "\n",
        "dft['Call']=pd.DataFrame({'Call':Call.flatten()})\n",
        "dft['Special']=pd.DataFrame({'Special':Special.flatten()})\n",
        "\n",
        "\n",
        "\n",
        "dft['Origin']=pd.DataFrame({'Origin':Origin.flatten()})\n",
        "\n",
        "\n",
        "dft['TotalVisits']=dfa['TotalVisits']\n",
        "dft['Total Time Spent on Website']=dfa['Total Time Spent on Website']\n",
        "dft['Page Views Per Visit']=dfa['Page Views Per Visit']\n",
        "\n",
        "\n"
      ],
      "metadata": {
        "id": "LILYIqLMCEh8"
      },
      "execution_count": 41,
      "outputs": []
    },
    {
      "cell_type": "code",
      "source": [
        "dft.to_csv('AI.csv')"
      ],
      "metadata": {
        "id": "AbH-FmVvVQeo"
      },
      "execution_count": 42,
      "outputs": []
    },
    {
      "cell_type": "code",
      "source": [
        "corr_matrix = dft.corr()\n",
        "corr_matrix"
      ],
      "metadata": {
        "colab": {
          "base_uri": "https://localhost:8080/",
          "height": 344
        },
        "id": "DOwYERFcaKEK",
        "outputId": "17ff5bf2-3def-4ce1-a1c4-c71c240af608"
      },
      "execution_count": 52,
      "outputs": [
        {
          "output_type": "execute_result",
          "data": {
            "text/html": [
              "\n",
              "  <div id=\"df-b7f9cc34-02af-4e5f-9609-74470388f2ea\">\n",
              "    <div class=\"colab-df-container\">\n",
              "      <div>\n",
              "<style scoped>\n",
              "    .dataframe tbody tr th:only-of-type {\n",
              "        vertical-align: middle;\n",
              "    }\n",
              "\n",
              "    .dataframe tbody tr th {\n",
              "        vertical-align: top;\n",
              "    }\n",
              "\n",
              "    .dataframe thead th {\n",
              "        text-align: right;\n",
              "    }\n",
              "</style>\n",
              "<table border=\"1\" class=\"dataframe\">\n",
              "  <thead>\n",
              "    <tr style=\"text-align: right;\">\n",
              "      <th></th>\n",
              "      <th>Purchased</th>\n",
              "      <th>Email</th>\n",
              "      <th>Call</th>\n",
              "      <th>Special</th>\n",
              "      <th>Origin</th>\n",
              "      <th>TotalVisits</th>\n",
              "      <th>Total Time Spent on Website</th>\n",
              "      <th>Page Views Per Visit</th>\n",
              "    </tr>\n",
              "  </thead>\n",
              "  <tbody>\n",
              "    <tr>\n",
              "      <th>Purchased</th>\n",
              "      <td>1.000000</td>\n",
              "      <td>-0.004225</td>\n",
              "      <td>-0.011341</td>\n",
              "      <td>-0.135032</td>\n",
              "      <td>0.223725</td>\n",
              "      <td>0.022502</td>\n",
              "      <td>0.362483</td>\n",
              "      <td>-0.014725</td>\n",
              "    </tr>\n",
              "    <tr>\n",
              "      <th>Email</th>\n",
              "      <td>-0.004225</td>\n",
              "      <td>1.000000</td>\n",
              "      <td>0.894805</td>\n",
              "      <td>0.008658</td>\n",
              "      <td>-0.014861</td>\n",
              "      <td>-0.003491</td>\n",
              "      <td>-0.004940</td>\n",
              "      <td>-0.027782</td>\n",
              "    </tr>\n",
              "    <tr>\n",
              "      <th>Call</th>\n",
              "      <td>-0.011341</td>\n",
              "      <td>0.894805</td>\n",
              "      <td>1.000000</td>\n",
              "      <td>0.006582</td>\n",
              "      <td>-0.009395</td>\n",
              "      <td>-0.005773</td>\n",
              "      <td>-0.005711</td>\n",
              "      <td>-0.022083</td>\n",
              "    </tr>\n",
              "    <tr>\n",
              "      <th>Special</th>\n",
              "      <td>-0.135032</td>\n",
              "      <td>0.008658</td>\n",
              "      <td>0.006582</td>\n",
              "      <td>1.000000</td>\n",
              "      <td>-0.453914</td>\n",
              "      <td>-0.192332</td>\n",
              "      <td>-0.225480</td>\n",
              "      <td>-0.314224</td>\n",
              "    </tr>\n",
              "    <tr>\n",
              "      <th>Origin</th>\n",
              "      <td>0.223725</td>\n",
              "      <td>-0.014861</td>\n",
              "      <td>-0.009395</td>\n",
              "      <td>-0.453914</td>\n",
              "      <td>1.000000</td>\n",
              "      <td>0.056882</td>\n",
              "      <td>0.088852</td>\n",
              "      <td>0.110814</td>\n",
              "    </tr>\n",
              "    <tr>\n",
              "      <th>TotalVisits</th>\n",
              "      <td>0.022502</td>\n",
              "      <td>-0.003491</td>\n",
              "      <td>-0.005773</td>\n",
              "      <td>-0.192332</td>\n",
              "      <td>0.056882</td>\n",
              "      <td>1.000000</td>\n",
              "      <td>0.209468</td>\n",
              "      <td>0.517122</td>\n",
              "    </tr>\n",
              "    <tr>\n",
              "      <th>Total Time Spent on Website</th>\n",
              "      <td>0.362483</td>\n",
              "      <td>-0.004940</td>\n",
              "      <td>-0.005711</td>\n",
              "      <td>-0.225480</td>\n",
              "      <td>0.088852</td>\n",
              "      <td>0.209468</td>\n",
              "      <td>1.000000</td>\n",
              "      <td>0.301036</td>\n",
              "    </tr>\n",
              "    <tr>\n",
              "      <th>Page Views Per Visit</th>\n",
              "      <td>-0.014725</td>\n",
              "      <td>-0.027782</td>\n",
              "      <td>-0.022083</td>\n",
              "      <td>-0.314224</td>\n",
              "      <td>0.110814</td>\n",
              "      <td>0.517122</td>\n",
              "      <td>0.301036</td>\n",
              "      <td>1.000000</td>\n",
              "    </tr>\n",
              "  </tbody>\n",
              "</table>\n",
              "</div>\n",
              "      <button class=\"colab-df-convert\" onclick=\"convertToInteractive('df-b7f9cc34-02af-4e5f-9609-74470388f2ea')\"\n",
              "              title=\"Convert this dataframe to an interactive table.\"\n",
              "              style=\"display:none;\">\n",
              "        \n",
              "  <svg xmlns=\"http://www.w3.org/2000/svg\" height=\"24px\"viewBox=\"0 0 24 24\"\n",
              "       width=\"24px\">\n",
              "    <path d=\"M0 0h24v24H0V0z\" fill=\"none\"/>\n",
              "    <path d=\"M18.56 5.44l.94 2.06.94-2.06 2.06-.94-2.06-.94-.94-2.06-.94 2.06-2.06.94zm-11 1L8.5 8.5l.94-2.06 2.06-.94-2.06-.94L8.5 2.5l-.94 2.06-2.06.94zm10 10l.94 2.06.94-2.06 2.06-.94-2.06-.94-.94-2.06-.94 2.06-2.06.94z\"/><path d=\"M17.41 7.96l-1.37-1.37c-.4-.4-.92-.59-1.43-.59-.52 0-1.04.2-1.43.59L10.3 9.45l-7.72 7.72c-.78.78-.78 2.05 0 2.83L4 21.41c.39.39.9.59 1.41.59.51 0 1.02-.2 1.41-.59l7.78-7.78 2.81-2.81c.8-.78.8-2.07 0-2.86zM5.41 20L4 18.59l7.72-7.72 1.47 1.35L5.41 20z\"/>\n",
              "  </svg>\n",
              "      </button>\n",
              "      \n",
              "  <style>\n",
              "    .colab-df-container {\n",
              "      display:flex;\n",
              "      flex-wrap:wrap;\n",
              "      gap: 12px;\n",
              "    }\n",
              "\n",
              "    .colab-df-convert {\n",
              "      background-color: #E8F0FE;\n",
              "      border: none;\n",
              "      border-radius: 50%;\n",
              "      cursor: pointer;\n",
              "      display: none;\n",
              "      fill: #1967D2;\n",
              "      height: 32px;\n",
              "      padding: 0 0 0 0;\n",
              "      width: 32px;\n",
              "    }\n",
              "\n",
              "    .colab-df-convert:hover {\n",
              "      background-color: #E2EBFA;\n",
              "      box-shadow: 0px 1px 2px rgba(60, 64, 67, 0.3), 0px 1px 3px 1px rgba(60, 64, 67, 0.15);\n",
              "      fill: #174EA6;\n",
              "    }\n",
              "\n",
              "    [theme=dark] .colab-df-convert {\n",
              "      background-color: #3B4455;\n",
              "      fill: #D2E3FC;\n",
              "    }\n",
              "\n",
              "    [theme=dark] .colab-df-convert:hover {\n",
              "      background-color: #434B5C;\n",
              "      box-shadow: 0px 1px 3px 1px rgba(0, 0, 0, 0.15);\n",
              "      filter: drop-shadow(0px 1px 2px rgba(0, 0, 0, 0.3));\n",
              "      fill: #FFFFFF;\n",
              "    }\n",
              "  </style>\n",
              "\n",
              "      <script>\n",
              "        const buttonEl =\n",
              "          document.querySelector('#df-b7f9cc34-02af-4e5f-9609-74470388f2ea button.colab-df-convert');\n",
              "        buttonEl.style.display =\n",
              "          google.colab.kernel.accessAllowed ? 'block' : 'none';\n",
              "\n",
              "        async function convertToInteractive(key) {\n",
              "          const element = document.querySelector('#df-b7f9cc34-02af-4e5f-9609-74470388f2ea');\n",
              "          const dataTable =\n",
              "            await google.colab.kernel.invokeFunction('convertToInteractive',\n",
              "                                                     [key], {});\n",
              "          if (!dataTable) return;\n",
              "\n",
              "          const docLinkHtml = 'Like what you see? Visit the ' +\n",
              "            '<a target=\"_blank\" href=https://colab.research.google.com/notebooks/data_table.ipynb>data table notebook</a>'\n",
              "            + ' to learn more about interactive tables.';\n",
              "          element.innerHTML = '';\n",
              "          dataTable['output_type'] = 'display_data';\n",
              "          await google.colab.output.renderOutput(dataTable, element);\n",
              "          const docLink = document.createElement('div');\n",
              "          docLink.innerHTML = docLinkHtml;\n",
              "          element.appendChild(docLink);\n",
              "        }\n",
              "      </script>\n",
              "    </div>\n",
              "  </div>\n",
              "  "
            ],
            "text/plain": [
              "                             Purchased  ...  Page Views Per Visit\n",
              "Purchased                     1.000000  ...             -0.014725\n",
              "Email                        -0.004225  ...             -0.027782\n",
              "Call                         -0.011341  ...             -0.022083\n",
              "Special                      -0.135032  ...             -0.314224\n",
              "Origin                        0.223725  ...              0.110814\n",
              "TotalVisits                   0.022502  ...              0.517122\n",
              "Total Time Spent on Website   0.362483  ...              0.301036\n",
              "Page Views Per Visit         -0.014725  ...              1.000000\n",
              "\n",
              "[8 rows x 8 columns]"
            ]
          },
          "metadata": {},
          "execution_count": 52
        }
      ]
    },
    {
      "cell_type": "code",
      "source": [
        "X= dft.drop(\"Purchased\",axis= 1)\n",
        "Y=dft[\"Purchased\"]"
      ],
      "metadata": {
        "id": "GJFVKaHhVcy-"
      },
      "execution_count": 43,
      "outputs": []
    },
    {
      "cell_type": "code",
      "source": [
        "headers = list(X)\n",
        "train_X, test_X, train_Y, test_Y = train_test_split(X, Y, test_size=0.33, stratify=Y, random_state=0)\n",
        "\n",
        "print(train_X.shape, test_X.shape)\n",
        "print()\n",
        "print('Number of rows in Train dataset: {train_df.shape[0]}')\n",
        "print(train_Y.value_counts())\n",
        "print()\n",
        "print('Number of rows in Test dataset: {test_df.shape[0]}')\n",
        "print(test_Y.value_counts())"
      ],
      "metadata": {
        "colab": {
          "base_uri": "https://localhost:8080/"
        },
        "id": "9EV0YJgsP-Ps",
        "outputId": "33539c50-337b-4ad8-b4d0-9d9c7f84f9eb"
      },
      "execution_count": 44,
      "outputs": [
        {
          "output_type": "stream",
          "name": "stdout",
          "text": [
            "(6190, 7) (3050, 7)\n",
            "\n",
            "Number of rows in Train dataset: {train_df.shape[0]}\n",
            "0.0    3804\n",
            "1.0    2386\n",
            "Name: Purchased, dtype: int64\n",
            "\n",
            "Number of rows in Test dataset: {test_df.shape[0]}\n",
            "0.0    1875\n",
            "1.0    1175\n",
            "Name: Purchased, dtype: int64\n"
          ]
        }
      ]
    },
    {
      "cell_type": "code",
      "source": [
        "import xgboost as xgb\n",
        "\n"
      ],
      "metadata": {
        "id": "9IpI7fmDRDl8"
      },
      "execution_count": 45,
      "outputs": []
    },
    {
      "cell_type": "code",
      "source": [
        "\n",
        "model = xgb.XGBClassifier(max_depth=12,\n",
        "                        subsample=0.33,\n",
        "                        objective='binary:logistic',\n",
        "                        n_estimators=300,\n",
        "                        learning_rate = 0.01)\n",
        "eval_set = [(train_X, train_Y), (test_X, test_Y)]\n",
        "model.fit(train_X, train_Y.values.ravel(), early_stopping_rounds=15, eval_metric=[\"error\", \"logloss\"], eval_set=eval_set, verbose=True)"
      ],
      "metadata": {
        "colab": {
          "base_uri": "https://localhost:8080/"
        },
        "id": "I2oKrifoQfKk",
        "outputId": "75467b4c-8b1a-47ab-9dd0-1d7d82dca1a1"
      },
      "execution_count": 46,
      "outputs": [
        {
          "output_type": "stream",
          "name": "stdout",
          "text": [
            "[0]\tvalidation_0-error:0.217124\tvalidation_0-logloss:0.689205\tvalidation_1-error:0.243934\tvalidation_1-logloss:0.689505\n",
            "Multiple eval metrics have been passed: 'validation_1-logloss' will be used for early stopping.\n",
            "\n",
            "Will train until validation_1-logloss hasn't improved in 15 rounds.\n",
            "[1]\tvalidation_0-error:0.199192\tvalidation_0-logloss:0.685271\tvalidation_1-error:0.217705\tvalidation_1-logloss:0.685752\n",
            "[2]\tvalidation_0-error:0.193215\tvalidation_0-logloss:0.681565\tvalidation_1-error:0.209508\tvalidation_1-logloss:0.682312\n",
            "[3]\tvalidation_0-error:0.191438\tvalidation_0-logloss:0.677725\tvalidation_1-error:0.208525\tvalidation_1-logloss:0.678718\n",
            "[4]\tvalidation_0-error:0.191115\tvalidation_0-logloss:0.674126\tvalidation_1-error:0.20623\tvalidation_1-logloss:0.675336\n",
            "[5]\tvalidation_0-error:0.190953\tvalidation_0-logloss:0.670494\tvalidation_1-error:0.205902\tvalidation_1-logloss:0.671977\n",
            "[6]\tvalidation_0-error:0.193215\tvalidation_0-logloss:0.666974\tvalidation_1-error:0.205902\tvalidation_1-logloss:0.668836\n",
            "[7]\tvalidation_0-error:0.192569\tvalidation_0-logloss:0.663438\tvalidation_1-error:0.204262\tvalidation_1-logloss:0.665612\n",
            "[8]\tvalidation_0-error:0.191761\tvalidation_0-logloss:0.660012\tvalidation_1-error:0.204262\tvalidation_1-logloss:0.662475\n",
            "[9]\tvalidation_0-error:0.191599\tvalidation_0-logloss:0.656581\tvalidation_1-error:0.203934\tvalidation_1-logloss:0.659304\n",
            "[10]\tvalidation_0-error:0.192407\tvalidation_0-logloss:0.653152\tvalidation_1-error:0.207213\tvalidation_1-logloss:0.656115\n",
            "[11]\tvalidation_0-error:0.19063\tvalidation_0-logloss:0.649891\tvalidation_1-error:0.205902\tvalidation_1-logloss:0.653073\n",
            "[12]\tvalidation_0-error:0.191438\tvalidation_0-logloss:0.646638\tvalidation_1-error:0.205246\tvalidation_1-logloss:0.650059\n",
            "[13]\tvalidation_0-error:0.191438\tvalidation_0-logloss:0.643363\tvalidation_1-error:0.205246\tvalidation_1-logloss:0.647077\n",
            "[14]\tvalidation_0-error:0.191922\tvalidation_0-logloss:0.640255\tvalidation_1-error:0.207213\tvalidation_1-logloss:0.644307\n",
            "[15]\tvalidation_0-error:0.190307\tvalidation_0-logloss:0.637105\tvalidation_1-error:0.208197\tvalidation_1-logloss:0.641471\n",
            "[16]\tvalidation_0-error:0.190792\tvalidation_0-logloss:0.63408\tvalidation_1-error:0.205246\tvalidation_1-logloss:0.638872\n",
            "[17]\tvalidation_0-error:0.191599\tvalidation_0-logloss:0.631211\tvalidation_1-error:0.206885\tvalidation_1-logloss:0.636333\n",
            "[18]\tvalidation_0-error:0.189499\tvalidation_0-logloss:0.628353\tvalidation_1-error:0.207213\tvalidation_1-logloss:0.633764\n",
            "[19]\tvalidation_0-error:0.190792\tvalidation_0-logloss:0.625475\tvalidation_1-error:0.206885\tvalidation_1-logloss:0.631161\n",
            "[20]\tvalidation_0-error:0.189661\tvalidation_0-logloss:0.622709\tvalidation_1-error:0.20623\tvalidation_1-logloss:0.628696\n",
            "[21]\tvalidation_0-error:0.188691\tvalidation_0-logloss:0.619937\tvalidation_1-error:0.205246\tvalidation_1-logloss:0.626168\n",
            "[22]\tvalidation_0-error:0.189822\tvalidation_0-logloss:0.617245\tvalidation_1-error:0.20623\tvalidation_1-logloss:0.623758\n",
            "[23]\tvalidation_0-error:0.189984\tvalidation_0-logloss:0.614585\tvalidation_1-error:0.205902\tvalidation_1-logloss:0.621512\n",
            "[24]\tvalidation_0-error:0.190469\tvalidation_0-logloss:0.611992\tvalidation_1-error:0.20623\tvalidation_1-logloss:0.619206\n",
            "[25]\tvalidation_0-error:0.19063\tvalidation_0-logloss:0.609359\tvalidation_1-error:0.205574\tvalidation_1-logloss:0.616771\n",
            "[26]\tvalidation_0-error:0.190469\tvalidation_0-logloss:0.606898\tvalidation_1-error:0.205574\tvalidation_1-logloss:0.61464\n",
            "[27]\tvalidation_0-error:0.190953\tvalidation_0-logloss:0.604447\tvalidation_1-error:0.204918\tvalidation_1-logloss:0.612417\n",
            "[28]\tvalidation_0-error:0.191438\tvalidation_0-logloss:0.602061\tvalidation_1-error:0.204918\tvalidation_1-logloss:0.610278\n",
            "[29]\tvalidation_0-error:0.191761\tvalidation_0-logloss:0.599611\tvalidation_1-error:0.20623\tvalidation_1-logloss:0.60813\n",
            "[30]\tvalidation_0-error:0.191599\tvalidation_0-logloss:0.597244\tvalidation_1-error:0.20623\tvalidation_1-logloss:0.605999\n",
            "[31]\tvalidation_0-error:0.192084\tvalidation_0-logloss:0.594919\tvalidation_1-error:0.205246\tvalidation_1-logloss:0.603965\n",
            "[32]\tvalidation_0-error:0.192084\tvalidation_0-logloss:0.592573\tvalidation_1-error:0.205574\tvalidation_1-logloss:0.601924\n",
            "[33]\tvalidation_0-error:0.192246\tvalidation_0-logloss:0.590288\tvalidation_1-error:0.206885\tvalidation_1-logloss:0.599919\n",
            "[34]\tvalidation_0-error:0.191922\tvalidation_0-logloss:0.587979\tvalidation_1-error:0.205574\tvalidation_1-logloss:0.597937\n",
            "[35]\tvalidation_0-error:0.191276\tvalidation_0-logloss:0.585759\tvalidation_1-error:0.205902\tvalidation_1-logloss:0.596052\n",
            "[36]\tvalidation_0-error:0.190469\tvalidation_0-logloss:0.583466\tvalidation_1-error:0.205574\tvalidation_1-logloss:0.594113\n",
            "[37]\tvalidation_0-error:0.190792\tvalidation_0-logloss:0.581277\tvalidation_1-error:0.205902\tvalidation_1-logloss:0.592286\n",
            "[38]\tvalidation_0-error:0.189822\tvalidation_0-logloss:0.579097\tvalidation_1-error:0.205902\tvalidation_1-logloss:0.590329\n",
            "[39]\tvalidation_0-error:0.189338\tvalidation_0-logloss:0.577\tvalidation_1-error:0.206557\tvalidation_1-logloss:0.588461\n",
            "[40]\tvalidation_0-error:0.188691\tvalidation_0-logloss:0.574962\tvalidation_1-error:0.207213\tvalidation_1-logloss:0.586726\n",
            "[41]\tvalidation_0-error:0.18853\tvalidation_0-logloss:0.572925\tvalidation_1-error:0.20623\tvalidation_1-logloss:0.584932\n",
            "[42]\tvalidation_0-error:0.188207\tvalidation_0-logloss:0.570969\tvalidation_1-error:0.206885\tvalidation_1-logloss:0.583225\n",
            "[43]\tvalidation_0-error:0.188691\tvalidation_0-logloss:0.569048\tvalidation_1-error:0.20623\tvalidation_1-logloss:0.581607\n",
            "[44]\tvalidation_0-error:0.189338\tvalidation_0-logloss:0.567203\tvalidation_1-error:0.207869\tvalidation_1-logloss:0.580097\n",
            "[45]\tvalidation_0-error:0.18853\tvalidation_0-logloss:0.565296\tvalidation_1-error:0.208197\tvalidation_1-logloss:0.578397\n",
            "[46]\tvalidation_0-error:0.187884\tvalidation_0-logloss:0.563396\tvalidation_1-error:0.206885\tvalidation_1-logloss:0.576713\n",
            "[47]\tvalidation_0-error:0.189176\tvalidation_0-logloss:0.561449\tvalidation_1-error:0.205902\tvalidation_1-logloss:0.574994\n",
            "[48]\tvalidation_0-error:0.189499\tvalidation_0-logloss:0.559539\tvalidation_1-error:0.207213\tvalidation_1-logloss:0.573371\n",
            "[49]\tvalidation_0-error:0.188045\tvalidation_0-logloss:0.557764\tvalidation_1-error:0.207213\tvalidation_1-logloss:0.571909\n",
            "[50]\tvalidation_0-error:0.18853\tvalidation_0-logloss:0.555903\tvalidation_1-error:0.207541\tvalidation_1-logloss:0.570343\n",
            "[51]\tvalidation_0-error:0.189499\tvalidation_0-logloss:0.554248\tvalidation_1-error:0.207541\tvalidation_1-logloss:0.569004\n",
            "[52]\tvalidation_0-error:0.188691\tvalidation_0-logloss:0.552402\tvalidation_1-error:0.20918\tvalidation_1-logloss:0.567482\n",
            "[53]\tvalidation_0-error:0.188207\tvalidation_0-logloss:0.550676\tvalidation_1-error:0.207869\tvalidation_1-logloss:0.566204\n",
            "[54]\tvalidation_0-error:0.187561\tvalidation_0-logloss:0.548925\tvalidation_1-error:0.207541\tvalidation_1-logloss:0.564882\n",
            "[55]\tvalidation_0-error:0.188207\tvalidation_0-logloss:0.547243\tvalidation_1-error:0.207213\tvalidation_1-logloss:0.563441\n",
            "[56]\tvalidation_0-error:0.187884\tvalidation_0-logloss:0.545645\tvalidation_1-error:0.208197\tvalidation_1-logloss:0.562046\n",
            "[57]\tvalidation_0-error:0.187722\tvalidation_0-logloss:0.543997\tvalidation_1-error:0.208197\tvalidation_1-logloss:0.560615\n",
            "[58]\tvalidation_0-error:0.187237\tvalidation_0-logloss:0.542328\tvalidation_1-error:0.207869\tvalidation_1-logloss:0.559157\n",
            "[59]\tvalidation_0-error:0.187722\tvalidation_0-logloss:0.54072\tvalidation_1-error:0.208852\tvalidation_1-logloss:0.55786\n",
            "[60]\tvalidation_0-error:0.189338\tvalidation_0-logloss:0.539182\tvalidation_1-error:0.208852\tvalidation_1-logloss:0.556598\n",
            "[61]\tvalidation_0-error:0.187722\tvalidation_0-logloss:0.537693\tvalidation_1-error:0.207869\tvalidation_1-logloss:0.555424\n",
            "[62]\tvalidation_0-error:0.188691\tvalidation_0-logloss:0.536093\tvalidation_1-error:0.207869\tvalidation_1-logloss:0.554226\n",
            "[63]\tvalidation_0-error:0.188207\tvalidation_0-logloss:0.534603\tvalidation_1-error:0.207869\tvalidation_1-logloss:0.553024\n",
            "[64]\tvalidation_0-error:0.188691\tvalidation_0-logloss:0.533093\tvalidation_1-error:0.207213\tvalidation_1-logloss:0.551659\n",
            "[65]\tvalidation_0-error:0.189338\tvalidation_0-logloss:0.53156\tvalidation_1-error:0.206557\tvalidation_1-logloss:0.550449\n",
            "[66]\tvalidation_0-error:0.187722\tvalidation_0-logloss:0.530072\tvalidation_1-error:0.207213\tvalidation_1-logloss:0.549367\n",
            "[67]\tvalidation_0-error:0.188368\tvalidation_0-logloss:0.528553\tvalidation_1-error:0.206885\tvalidation_1-logloss:0.548199\n",
            "[68]\tvalidation_0-error:0.188207\tvalidation_0-logloss:0.527245\tvalidation_1-error:0.207869\tvalidation_1-logloss:0.547145\n",
            "[69]\tvalidation_0-error:0.188207\tvalidation_0-logloss:0.525818\tvalidation_1-error:0.208197\tvalidation_1-logloss:0.546029\n",
            "[70]\tvalidation_0-error:0.188207\tvalidation_0-logloss:0.524412\tvalidation_1-error:0.208852\tvalidation_1-logloss:0.544945\n",
            "[71]\tvalidation_0-error:0.187884\tvalidation_0-logloss:0.522988\tvalidation_1-error:0.208852\tvalidation_1-logloss:0.543767\n",
            "[72]\tvalidation_0-error:0.187722\tvalidation_0-logloss:0.521658\tvalidation_1-error:0.208852\tvalidation_1-logloss:0.542717\n",
            "[73]\tvalidation_0-error:0.187399\tvalidation_0-logloss:0.520262\tvalidation_1-error:0.208852\tvalidation_1-logloss:0.541628\n",
            "[74]\tvalidation_0-error:0.187399\tvalidation_0-logloss:0.519029\tvalidation_1-error:0.208852\tvalidation_1-logloss:0.540628\n",
            "[75]\tvalidation_0-error:0.188045\tvalidation_0-logloss:0.517698\tvalidation_1-error:0.208197\tvalidation_1-logloss:0.539601\n",
            "[76]\tvalidation_0-error:0.188368\tvalidation_0-logloss:0.516496\tvalidation_1-error:0.207869\tvalidation_1-logloss:0.538722\n",
            "[77]\tvalidation_0-error:0.189176\tvalidation_0-logloss:0.515195\tvalidation_1-error:0.207869\tvalidation_1-logloss:0.537681\n",
            "[78]\tvalidation_0-error:0.188207\tvalidation_0-logloss:0.51393\tvalidation_1-error:0.207541\tvalidation_1-logloss:0.536664\n",
            "[79]\tvalidation_0-error:0.188045\tvalidation_0-logloss:0.512673\tvalidation_1-error:0.208525\tvalidation_1-logloss:0.535784\n",
            "[80]\tvalidation_0-error:0.188045\tvalidation_0-logloss:0.511374\tvalidation_1-error:0.208852\tvalidation_1-logloss:0.534811\n",
            "[81]\tvalidation_0-error:0.187561\tvalidation_0-logloss:0.510262\tvalidation_1-error:0.208525\tvalidation_1-logloss:0.533949\n",
            "[82]\tvalidation_0-error:0.188207\tvalidation_0-logloss:0.509071\tvalidation_1-error:0.207869\tvalidation_1-logloss:0.533154\n",
            "[83]\tvalidation_0-error:0.188368\tvalidation_0-logloss:0.50785\tvalidation_1-error:0.207869\tvalidation_1-logloss:0.532201\n",
            "[84]\tvalidation_0-error:0.187399\tvalidation_0-logloss:0.506778\tvalidation_1-error:0.208197\tvalidation_1-logloss:0.531398\n",
            "[85]\tvalidation_0-error:0.188045\tvalidation_0-logloss:0.505539\tvalidation_1-error:0.207541\tvalidation_1-logloss:0.5305\n",
            "[86]\tvalidation_0-error:0.188045\tvalidation_0-logloss:0.504375\tvalidation_1-error:0.207869\tvalidation_1-logloss:0.529559\n",
            "[87]\tvalidation_0-error:0.187561\tvalidation_0-logloss:0.503223\tvalidation_1-error:0.208197\tvalidation_1-logloss:0.528677\n",
            "[88]\tvalidation_0-error:0.187237\tvalidation_0-logloss:0.502181\tvalidation_1-error:0.208525\tvalidation_1-logloss:0.527841\n",
            "[89]\tvalidation_0-error:0.187722\tvalidation_0-logloss:0.501022\tvalidation_1-error:0.207541\tvalidation_1-logloss:0.526942\n",
            "[90]\tvalidation_0-error:0.186753\tvalidation_0-logloss:0.499941\tvalidation_1-error:0.208525\tvalidation_1-logloss:0.52617\n",
            "[91]\tvalidation_0-error:0.186914\tvalidation_0-logloss:0.498866\tvalidation_1-error:0.208525\tvalidation_1-logloss:0.525496\n",
            "[92]\tvalidation_0-error:0.186107\tvalidation_0-logloss:0.497849\tvalidation_1-error:0.208525\tvalidation_1-logloss:0.524744\n",
            "[93]\tvalidation_0-error:0.185784\tvalidation_0-logloss:0.496811\tvalidation_1-error:0.208197\tvalidation_1-logloss:0.523953\n",
            "[94]\tvalidation_0-error:0.185622\tvalidation_0-logloss:0.495837\tvalidation_1-error:0.207541\tvalidation_1-logloss:0.52327\n",
            "[95]\tvalidation_0-error:0.18546\tvalidation_0-logloss:0.49483\tvalidation_1-error:0.207213\tvalidation_1-logloss:0.522491\n",
            "[96]\tvalidation_0-error:0.185622\tvalidation_0-logloss:0.493802\tvalidation_1-error:0.207213\tvalidation_1-logloss:0.521782\n",
            "[97]\tvalidation_0-error:0.185784\tvalidation_0-logloss:0.492826\tvalidation_1-error:0.206885\tvalidation_1-logloss:0.521013\n",
            "[98]\tvalidation_0-error:0.185137\tvalidation_0-logloss:0.491875\tvalidation_1-error:0.207541\tvalidation_1-logloss:0.52028\n",
            "[99]\tvalidation_0-error:0.185784\tvalidation_0-logloss:0.49092\tvalidation_1-error:0.208197\tvalidation_1-logloss:0.519639\n",
            "[100]\tvalidation_0-error:0.186107\tvalidation_0-logloss:0.49\tvalidation_1-error:0.207541\tvalidation_1-logloss:0.519016\n",
            "[101]\tvalidation_0-error:0.185945\tvalidation_0-logloss:0.489011\tvalidation_1-error:0.207541\tvalidation_1-logloss:0.518303\n",
            "[102]\tvalidation_0-error:0.185622\tvalidation_0-logloss:0.488078\tvalidation_1-error:0.205902\tvalidation_1-logloss:0.517648\n",
            "[103]\tvalidation_0-error:0.185137\tvalidation_0-logloss:0.48715\tvalidation_1-error:0.205902\tvalidation_1-logloss:0.517105\n",
            "[104]\tvalidation_0-error:0.184814\tvalidation_0-logloss:0.486381\tvalidation_1-error:0.207869\tvalidation_1-logloss:0.51652\n",
            "[105]\tvalidation_0-error:0.184653\tvalidation_0-logloss:0.485479\tvalidation_1-error:0.207213\tvalidation_1-logloss:0.516021\n",
            "[106]\tvalidation_0-error:0.184491\tvalidation_0-logloss:0.484548\tvalidation_1-error:0.207213\tvalidation_1-logloss:0.515396\n",
            "[107]\tvalidation_0-error:0.18433\tvalidation_0-logloss:0.483669\tvalidation_1-error:0.206885\tvalidation_1-logloss:0.514849\n",
            "[108]\tvalidation_0-error:0.184653\tvalidation_0-logloss:0.482813\tvalidation_1-error:0.207541\tvalidation_1-logloss:0.514262\n",
            "[109]\tvalidation_0-error:0.184814\tvalidation_0-logloss:0.481963\tvalidation_1-error:0.207213\tvalidation_1-logloss:0.51367\n",
            "[110]\tvalidation_0-error:0.184653\tvalidation_0-logloss:0.481093\tvalidation_1-error:0.207541\tvalidation_1-logloss:0.513161\n",
            "[111]\tvalidation_0-error:0.185137\tvalidation_0-logloss:0.48021\tvalidation_1-error:0.207869\tvalidation_1-logloss:0.51252\n",
            "[112]\tvalidation_0-error:0.185137\tvalidation_0-logloss:0.479388\tvalidation_1-error:0.207869\tvalidation_1-logloss:0.511997\n",
            "[113]\tvalidation_0-error:0.18546\tvalidation_0-logloss:0.478512\tvalidation_1-error:0.20918\tvalidation_1-logloss:0.511411\n",
            "[114]\tvalidation_0-error:0.185299\tvalidation_0-logloss:0.477723\tvalidation_1-error:0.20918\tvalidation_1-logloss:0.51096\n",
            "[115]\tvalidation_0-error:0.184814\tvalidation_0-logloss:0.476916\tvalidation_1-error:0.208852\tvalidation_1-logloss:0.510438\n",
            "[116]\tvalidation_0-error:0.184653\tvalidation_0-logloss:0.476135\tvalidation_1-error:0.208852\tvalidation_1-logloss:0.509897\n",
            "[117]\tvalidation_0-error:0.184168\tvalidation_0-logloss:0.475278\tvalidation_1-error:0.208525\tvalidation_1-logloss:0.509283\n",
            "[118]\tvalidation_0-error:0.18433\tvalidation_0-logloss:0.47455\tvalidation_1-error:0.20918\tvalidation_1-logloss:0.508892\n",
            "[119]\tvalidation_0-error:0.184006\tvalidation_0-logloss:0.473826\tvalidation_1-error:0.208852\tvalidation_1-logloss:0.508482\n",
            "[120]\tvalidation_0-error:0.184006\tvalidation_0-logloss:0.473067\tvalidation_1-error:0.20918\tvalidation_1-logloss:0.507995\n",
            "[121]\tvalidation_0-error:0.184168\tvalidation_0-logloss:0.472263\tvalidation_1-error:0.208852\tvalidation_1-logloss:0.50747\n",
            "[122]\tvalidation_0-error:0.18433\tvalidation_0-logloss:0.471528\tvalidation_1-error:0.209836\tvalidation_1-logloss:0.506998\n",
            "[123]\tvalidation_0-error:0.184653\tvalidation_0-logloss:0.470766\tvalidation_1-error:0.209508\tvalidation_1-logloss:0.506511\n",
            "[124]\tvalidation_0-error:0.184653\tvalidation_0-logloss:0.47003\tvalidation_1-error:0.20918\tvalidation_1-logloss:0.506166\n",
            "[125]\tvalidation_0-error:0.184653\tvalidation_0-logloss:0.469243\tvalidation_1-error:0.20918\tvalidation_1-logloss:0.505686\n",
            "[126]\tvalidation_0-error:0.184006\tvalidation_0-logloss:0.468585\tvalidation_1-error:0.209508\tvalidation_1-logloss:0.505248\n",
            "[127]\tvalidation_0-error:0.184006\tvalidation_0-logloss:0.467857\tvalidation_1-error:0.20918\tvalidation_1-logloss:0.504776\n",
            "[128]\tvalidation_0-error:0.184168\tvalidation_0-logloss:0.467115\tvalidation_1-error:0.209508\tvalidation_1-logloss:0.504403\n",
            "[129]\tvalidation_0-error:0.183522\tvalidation_0-logloss:0.466399\tvalidation_1-error:0.208852\tvalidation_1-logloss:0.504014\n",
            "[130]\tvalidation_0-error:0.184006\tvalidation_0-logloss:0.465751\tvalidation_1-error:0.20918\tvalidation_1-logloss:0.503597\n",
            "[131]\tvalidation_0-error:0.183845\tvalidation_0-logloss:0.465093\tvalidation_1-error:0.207213\tvalidation_1-logloss:0.503199\n",
            "[132]\tvalidation_0-error:0.184491\tvalidation_0-logloss:0.464437\tvalidation_1-error:0.207541\tvalidation_1-logloss:0.502844\n",
            "[133]\tvalidation_0-error:0.18336\tvalidation_0-logloss:0.463793\tvalidation_1-error:0.207541\tvalidation_1-logloss:0.502545\n",
            "[134]\tvalidation_0-error:0.183845\tvalidation_0-logloss:0.463158\tvalidation_1-error:0.208197\tvalidation_1-logloss:0.502207\n",
            "[135]\tvalidation_0-error:0.18336\tvalidation_0-logloss:0.462492\tvalidation_1-error:0.208525\tvalidation_1-logloss:0.501864\n",
            "[136]\tvalidation_0-error:0.183522\tvalidation_0-logloss:0.461815\tvalidation_1-error:0.208197\tvalidation_1-logloss:0.501543\n",
            "[137]\tvalidation_0-error:0.18336\tvalidation_0-logloss:0.461163\tvalidation_1-error:0.208197\tvalidation_1-logloss:0.501173\n",
            "[138]\tvalidation_0-error:0.183683\tvalidation_0-logloss:0.460481\tvalidation_1-error:0.208197\tvalidation_1-logloss:0.500792\n",
            "[139]\tvalidation_0-error:0.18336\tvalidation_0-logloss:0.459862\tvalidation_1-error:0.207869\tvalidation_1-logloss:0.500514\n",
            "[140]\tvalidation_0-error:0.183199\tvalidation_0-logloss:0.45916\tvalidation_1-error:0.208525\tvalidation_1-logloss:0.500134\n",
            "[141]\tvalidation_0-error:0.182876\tvalidation_0-logloss:0.458567\tvalidation_1-error:0.208852\tvalidation_1-logloss:0.499789\n",
            "[142]\tvalidation_0-error:0.182553\tvalidation_0-logloss:0.457944\tvalidation_1-error:0.207869\tvalidation_1-logloss:0.499483\n",
            "[143]\tvalidation_0-error:0.182553\tvalidation_0-logloss:0.45737\tvalidation_1-error:0.209508\tvalidation_1-logloss:0.499215\n",
            "[144]\tvalidation_0-error:0.182391\tvalidation_0-logloss:0.456724\tvalidation_1-error:0.208197\tvalidation_1-logloss:0.498853\n",
            "[145]\tvalidation_0-error:0.182229\tvalidation_0-logloss:0.456135\tvalidation_1-error:0.20918\tvalidation_1-logloss:0.498555\n",
            "[146]\tvalidation_0-error:0.182391\tvalidation_0-logloss:0.455505\tvalidation_1-error:0.208852\tvalidation_1-logloss:0.498248\n",
            "[147]\tvalidation_0-error:0.182068\tvalidation_0-logloss:0.454944\tvalidation_1-error:0.207869\tvalidation_1-logloss:0.498033\n",
            "[148]\tvalidation_0-error:0.181906\tvalidation_0-logloss:0.454316\tvalidation_1-error:0.208525\tvalidation_1-logloss:0.497689\n",
            "[149]\tvalidation_0-error:0.182229\tvalidation_0-logloss:0.453753\tvalidation_1-error:0.207869\tvalidation_1-logloss:0.497401\n",
            "[150]\tvalidation_0-error:0.182229\tvalidation_0-logloss:0.453156\tvalidation_1-error:0.207213\tvalidation_1-logloss:0.497047\n",
            "[151]\tvalidation_0-error:0.182068\tvalidation_0-logloss:0.452576\tvalidation_1-error:0.207541\tvalidation_1-logloss:0.49678\n",
            "[152]\tvalidation_0-error:0.181906\tvalidation_0-logloss:0.45201\tvalidation_1-error:0.207869\tvalidation_1-logloss:0.496544\n",
            "[153]\tvalidation_0-error:0.181906\tvalidation_0-logloss:0.451471\tvalidation_1-error:0.208525\tvalidation_1-logloss:0.496403\n",
            "[154]\tvalidation_0-error:0.181583\tvalidation_0-logloss:0.4509\tvalidation_1-error:0.208197\tvalidation_1-logloss:0.496126\n",
            "[155]\tvalidation_0-error:0.181745\tvalidation_0-logloss:0.450387\tvalidation_1-error:0.208197\tvalidation_1-logloss:0.495813\n",
            "[156]\tvalidation_0-error:0.181422\tvalidation_0-logloss:0.449803\tvalidation_1-error:0.208197\tvalidation_1-logloss:0.495618\n",
            "[157]\tvalidation_0-error:0.181583\tvalidation_0-logloss:0.449275\tvalidation_1-error:0.208525\tvalidation_1-logloss:0.495444\n",
            "[158]\tvalidation_0-error:0.181422\tvalidation_0-logloss:0.448795\tvalidation_1-error:0.208525\tvalidation_1-logloss:0.495221\n",
            "[159]\tvalidation_0-error:0.18126\tvalidation_0-logloss:0.448247\tvalidation_1-error:0.208197\tvalidation_1-logloss:0.494983\n",
            "[160]\tvalidation_0-error:0.180937\tvalidation_0-logloss:0.447761\tvalidation_1-error:0.208525\tvalidation_1-logloss:0.494755\n",
            "[161]\tvalidation_0-error:0.180937\tvalidation_0-logloss:0.447216\tvalidation_1-error:0.208525\tvalidation_1-logloss:0.494406\n",
            "[162]\tvalidation_0-error:0.181099\tvalidation_0-logloss:0.446743\tvalidation_1-error:0.208197\tvalidation_1-logloss:0.494228\n",
            "[163]\tvalidation_0-error:0.180937\tvalidation_0-logloss:0.446228\tvalidation_1-error:0.208525\tvalidation_1-logloss:0.493945\n",
            "[164]\tvalidation_0-error:0.181099\tvalidation_0-logloss:0.445753\tvalidation_1-error:0.207869\tvalidation_1-logloss:0.49381\n",
            "[165]\tvalidation_0-error:0.181099\tvalidation_0-logloss:0.445193\tvalidation_1-error:0.207869\tvalidation_1-logloss:0.493508\n",
            "[166]\tvalidation_0-error:0.180775\tvalidation_0-logloss:0.444643\tvalidation_1-error:0.207869\tvalidation_1-logloss:0.493327\n",
            "[167]\tvalidation_0-error:0.180775\tvalidation_0-logloss:0.444109\tvalidation_1-error:0.208197\tvalidation_1-logloss:0.49301\n",
            "[168]\tvalidation_0-error:0.181099\tvalidation_0-logloss:0.443643\tvalidation_1-error:0.208525\tvalidation_1-logloss:0.492918\n",
            "[169]\tvalidation_0-error:0.180775\tvalidation_0-logloss:0.443163\tvalidation_1-error:0.208197\tvalidation_1-logloss:0.492724\n",
            "[170]\tvalidation_0-error:0.180614\tvalidation_0-logloss:0.442679\tvalidation_1-error:0.208852\tvalidation_1-logloss:0.492546\n",
            "[171]\tvalidation_0-error:0.180129\tvalidation_0-logloss:0.442167\tvalidation_1-error:0.208197\tvalidation_1-logloss:0.492345\n",
            "[172]\tvalidation_0-error:0.180614\tvalidation_0-logloss:0.441663\tvalidation_1-error:0.20918\tvalidation_1-logloss:0.492325\n",
            "[173]\tvalidation_0-error:0.180937\tvalidation_0-logloss:0.44117\tvalidation_1-error:0.208197\tvalidation_1-logloss:0.492109\n",
            "[174]\tvalidation_0-error:0.181099\tvalidation_0-logloss:0.440663\tvalidation_1-error:0.208197\tvalidation_1-logloss:0.491933\n",
            "[175]\tvalidation_0-error:0.180937\tvalidation_0-logloss:0.440163\tvalidation_1-error:0.207869\tvalidation_1-logloss:0.491798\n",
            "[176]\tvalidation_0-error:0.181099\tvalidation_0-logloss:0.439676\tvalidation_1-error:0.207869\tvalidation_1-logloss:0.491702\n",
            "[177]\tvalidation_0-error:0.181099\tvalidation_0-logloss:0.439218\tvalidation_1-error:0.208197\tvalidation_1-logloss:0.491523\n",
            "[178]\tvalidation_0-error:0.180291\tvalidation_0-logloss:0.438774\tvalidation_1-error:0.208852\tvalidation_1-logloss:0.491403\n",
            "[179]\tvalidation_0-error:0.179483\tvalidation_0-logloss:0.438349\tvalidation_1-error:0.20918\tvalidation_1-logloss:0.491176\n",
            "[180]\tvalidation_0-error:0.180129\tvalidation_0-logloss:0.437949\tvalidation_1-error:0.209508\tvalidation_1-logloss:0.490977\n",
            "[181]\tvalidation_0-error:0.180452\tvalidation_0-logloss:0.437483\tvalidation_1-error:0.208525\tvalidation_1-logloss:0.490743\n",
            "[182]\tvalidation_0-error:0.180291\tvalidation_0-logloss:0.437049\tvalidation_1-error:0.209836\tvalidation_1-logloss:0.490591\n",
            "[183]\tvalidation_0-error:0.180614\tvalidation_0-logloss:0.436616\tvalidation_1-error:0.209836\tvalidation_1-logloss:0.490422\n",
            "[184]\tvalidation_0-error:0.180775\tvalidation_0-logloss:0.436129\tvalidation_1-error:0.209508\tvalidation_1-logloss:0.490206\n",
            "[185]\tvalidation_0-error:0.180452\tvalidation_0-logloss:0.435627\tvalidation_1-error:0.209508\tvalidation_1-logloss:0.490001\n",
            "[186]\tvalidation_0-error:0.180614\tvalidation_0-logloss:0.435224\tvalidation_1-error:0.209508\tvalidation_1-logloss:0.489895\n",
            "[187]\tvalidation_0-error:0.180614\tvalidation_0-logloss:0.4348\tvalidation_1-error:0.209836\tvalidation_1-logloss:0.489785\n",
            "[188]\tvalidation_0-error:0.179968\tvalidation_0-logloss:0.434359\tvalidation_1-error:0.208852\tvalidation_1-logloss:0.489657\n",
            "[189]\tvalidation_0-error:0.180129\tvalidation_0-logloss:0.433902\tvalidation_1-error:0.208852\tvalidation_1-logloss:0.489475\n",
            "[190]\tvalidation_0-error:0.179968\tvalidation_0-logloss:0.43345\tvalidation_1-error:0.20918\tvalidation_1-logloss:0.48929\n",
            "[191]\tvalidation_0-error:0.180129\tvalidation_0-logloss:0.433028\tvalidation_1-error:0.20918\tvalidation_1-logloss:0.489183\n",
            "[192]\tvalidation_0-error:0.180129\tvalidation_0-logloss:0.432627\tvalidation_1-error:0.208852\tvalidation_1-logloss:0.488895\n",
            "[193]\tvalidation_0-error:0.179645\tvalidation_0-logloss:0.432227\tvalidation_1-error:0.209836\tvalidation_1-logloss:0.48873\n",
            "[194]\tvalidation_0-error:0.180129\tvalidation_0-logloss:0.431848\tvalidation_1-error:0.209508\tvalidation_1-logloss:0.488562\n",
            "[195]\tvalidation_0-error:0.179806\tvalidation_0-logloss:0.431419\tvalidation_1-error:0.209508\tvalidation_1-logloss:0.488478\n",
            "[196]\tvalidation_0-error:0.179806\tvalidation_0-logloss:0.431051\tvalidation_1-error:0.209508\tvalidation_1-logloss:0.488431\n",
            "[197]\tvalidation_0-error:0.179321\tvalidation_0-logloss:0.430638\tvalidation_1-error:0.209508\tvalidation_1-logloss:0.488317\n",
            "[198]\tvalidation_0-error:0.179321\tvalidation_0-logloss:0.430256\tvalidation_1-error:0.20918\tvalidation_1-logloss:0.488273\n",
            "[199]\tvalidation_0-error:0.179321\tvalidation_0-logloss:0.429849\tvalidation_1-error:0.20918\tvalidation_1-logloss:0.488133\n",
            "[200]\tvalidation_0-error:0.179321\tvalidation_0-logloss:0.429446\tvalidation_1-error:0.208525\tvalidation_1-logloss:0.487951\n",
            "[201]\tvalidation_0-error:0.17916\tvalidation_0-logloss:0.429067\tvalidation_1-error:0.20918\tvalidation_1-logloss:0.487854\n",
            "[202]\tvalidation_0-error:0.17916\tvalidation_0-logloss:0.428672\tvalidation_1-error:0.208197\tvalidation_1-logloss:0.4877\n",
            "[203]\tvalidation_0-error:0.17916\tvalidation_0-logloss:0.428289\tvalidation_1-error:0.208525\tvalidation_1-logloss:0.487625\n",
            "[204]\tvalidation_0-error:0.178837\tvalidation_0-logloss:0.427944\tvalidation_1-error:0.208525\tvalidation_1-logloss:0.487585\n",
            "[205]\tvalidation_0-error:0.178837\tvalidation_0-logloss:0.427559\tvalidation_1-error:0.209508\tvalidation_1-logloss:0.487469\n",
            "[206]\tvalidation_0-error:0.178352\tvalidation_0-logloss:0.427148\tvalidation_1-error:0.209836\tvalidation_1-logloss:0.487385\n",
            "[207]\tvalidation_0-error:0.178352\tvalidation_0-logloss:0.426842\tvalidation_1-error:0.21082\tvalidation_1-logloss:0.487294\n",
            "[208]\tvalidation_0-error:0.177868\tvalidation_0-logloss:0.426421\tvalidation_1-error:0.209836\tvalidation_1-logloss:0.487083\n",
            "[209]\tvalidation_0-error:0.178352\tvalidation_0-logloss:0.425997\tvalidation_1-error:0.209836\tvalidation_1-logloss:0.487017\n",
            "[210]\tvalidation_0-error:0.17916\tvalidation_0-logloss:0.425627\tvalidation_1-error:0.20918\tvalidation_1-logloss:0.486981\n",
            "[211]\tvalidation_0-error:0.178837\tvalidation_0-logloss:0.425259\tvalidation_1-error:0.20918\tvalidation_1-logloss:0.486851\n",
            "[212]\tvalidation_0-error:0.178675\tvalidation_0-logloss:0.424975\tvalidation_1-error:0.20918\tvalidation_1-logloss:0.486761\n",
            "[213]\tvalidation_0-error:0.179321\tvalidation_0-logloss:0.424603\tvalidation_1-error:0.210164\tvalidation_1-logloss:0.486697\n",
            "[214]\tvalidation_0-error:0.178352\tvalidation_0-logloss:0.424245\tvalidation_1-error:0.209508\tvalidation_1-logloss:0.486663\n",
            "[215]\tvalidation_0-error:0.178514\tvalidation_0-logloss:0.423868\tvalidation_1-error:0.210164\tvalidation_1-logloss:0.486585\n",
            "[216]\tvalidation_0-error:0.178191\tvalidation_0-logloss:0.423523\tvalidation_1-error:0.210164\tvalidation_1-logloss:0.486457\n",
            "[217]\tvalidation_0-error:0.178514\tvalidation_0-logloss:0.423172\tvalidation_1-error:0.210164\tvalidation_1-logloss:0.48635\n",
            "[218]\tvalidation_0-error:0.178675\tvalidation_0-logloss:0.422844\tvalidation_1-error:0.209508\tvalidation_1-logloss:0.486274\n",
            "[219]\tvalidation_0-error:0.178837\tvalidation_0-logloss:0.422497\tvalidation_1-error:0.210164\tvalidation_1-logloss:0.486219\n",
            "[220]\tvalidation_0-error:0.178675\tvalidation_0-logloss:0.422164\tvalidation_1-error:0.209508\tvalidation_1-logloss:0.486122\n",
            "[221]\tvalidation_0-error:0.178191\tvalidation_0-logloss:0.421835\tvalidation_1-error:0.209508\tvalidation_1-logloss:0.485992\n",
            "[222]\tvalidation_0-error:0.178191\tvalidation_0-logloss:0.421483\tvalidation_1-error:0.209508\tvalidation_1-logloss:0.48601\n",
            "[223]\tvalidation_0-error:0.178191\tvalidation_0-logloss:0.42112\tvalidation_1-error:0.20918\tvalidation_1-logloss:0.485917\n",
            "[224]\tvalidation_0-error:0.178352\tvalidation_0-logloss:0.420818\tvalidation_1-error:0.20918\tvalidation_1-logloss:0.485867\n",
            "[225]\tvalidation_0-error:0.178029\tvalidation_0-logloss:0.420518\tvalidation_1-error:0.208852\tvalidation_1-logloss:0.485761\n",
            "[226]\tvalidation_0-error:0.177868\tvalidation_0-logloss:0.42013\tvalidation_1-error:0.209508\tvalidation_1-logloss:0.485755\n",
            "[227]\tvalidation_0-error:0.177706\tvalidation_0-logloss:0.419811\tvalidation_1-error:0.209508\tvalidation_1-logloss:0.485644\n",
            "[228]\tvalidation_0-error:0.177383\tvalidation_0-logloss:0.419477\tvalidation_1-error:0.20918\tvalidation_1-logloss:0.485593\n",
            "[229]\tvalidation_0-error:0.177868\tvalidation_0-logloss:0.419169\tvalidation_1-error:0.209508\tvalidation_1-logloss:0.485523\n",
            "[230]\tvalidation_0-error:0.177544\tvalidation_0-logloss:0.418851\tvalidation_1-error:0.209836\tvalidation_1-logloss:0.485478\n",
            "[231]\tvalidation_0-error:0.177221\tvalidation_0-logloss:0.418545\tvalidation_1-error:0.20918\tvalidation_1-logloss:0.485471\n",
            "[232]\tvalidation_0-error:0.17706\tvalidation_0-logloss:0.418258\tvalidation_1-error:0.210492\tvalidation_1-logloss:0.485367\n",
            "[233]\tvalidation_0-error:0.177221\tvalidation_0-logloss:0.417934\tvalidation_1-error:0.21082\tvalidation_1-logloss:0.485265\n",
            "[234]\tvalidation_0-error:0.177706\tvalidation_0-logloss:0.417669\tvalidation_1-error:0.209836\tvalidation_1-logloss:0.485152\n",
            "[235]\tvalidation_0-error:0.177706\tvalidation_0-logloss:0.417356\tvalidation_1-error:0.20918\tvalidation_1-logloss:0.48506\n",
            "[236]\tvalidation_0-error:0.177868\tvalidation_0-logloss:0.417049\tvalidation_1-error:0.210164\tvalidation_1-logloss:0.485019\n",
            "[237]\tvalidation_0-error:0.177383\tvalidation_0-logloss:0.416747\tvalidation_1-error:0.209508\tvalidation_1-logloss:0.484965\n",
            "[238]\tvalidation_0-error:0.177544\tvalidation_0-logloss:0.416458\tvalidation_1-error:0.210164\tvalidation_1-logloss:0.484928\n",
            "[239]\tvalidation_0-error:0.177221\tvalidation_0-logloss:0.416177\tvalidation_1-error:0.210492\tvalidation_1-logloss:0.484913\n",
            "[240]\tvalidation_0-error:0.177221\tvalidation_0-logloss:0.415855\tvalidation_1-error:0.210492\tvalidation_1-logloss:0.48486\n",
            "[241]\tvalidation_0-error:0.176737\tvalidation_0-logloss:0.415517\tvalidation_1-error:0.210492\tvalidation_1-logloss:0.484944\n",
            "[242]\tvalidation_0-error:0.176414\tvalidation_0-logloss:0.415201\tvalidation_1-error:0.209508\tvalidation_1-logloss:0.48491\n",
            "[243]\tvalidation_0-error:0.176575\tvalidation_0-logloss:0.414959\tvalidation_1-error:0.209508\tvalidation_1-logloss:0.484827\n",
            "[244]\tvalidation_0-error:0.176414\tvalidation_0-logloss:0.414707\tvalidation_1-error:0.209836\tvalidation_1-logloss:0.484785\n",
            "[245]\tvalidation_0-error:0.17609\tvalidation_0-logloss:0.41442\tvalidation_1-error:0.209836\tvalidation_1-logloss:0.484664\n",
            "[246]\tvalidation_0-error:0.175767\tvalidation_0-logloss:0.414149\tvalidation_1-error:0.209836\tvalidation_1-logloss:0.484611\n",
            "[247]\tvalidation_0-error:0.175444\tvalidation_0-logloss:0.413807\tvalidation_1-error:0.209836\tvalidation_1-logloss:0.48456\n",
            "[248]\tvalidation_0-error:0.175444\tvalidation_0-logloss:0.413508\tvalidation_1-error:0.209836\tvalidation_1-logloss:0.484519\n",
            "[249]\tvalidation_0-error:0.175444\tvalidation_0-logloss:0.413229\tvalidation_1-error:0.209508\tvalidation_1-logloss:0.484475\n",
            "[250]\tvalidation_0-error:0.175444\tvalidation_0-logloss:0.412944\tvalidation_1-error:0.209836\tvalidation_1-logloss:0.484531\n",
            "[251]\tvalidation_0-error:0.175121\tvalidation_0-logloss:0.412657\tvalidation_1-error:0.209836\tvalidation_1-logloss:0.484554\n",
            "[252]\tvalidation_0-error:0.175121\tvalidation_0-logloss:0.412385\tvalidation_1-error:0.20918\tvalidation_1-logloss:0.484398\n",
            "[253]\tvalidation_0-error:0.175283\tvalidation_0-logloss:0.412078\tvalidation_1-error:0.208525\tvalidation_1-logloss:0.484352\n",
            "[254]\tvalidation_0-error:0.175444\tvalidation_0-logloss:0.411775\tvalidation_1-error:0.208525\tvalidation_1-logloss:0.484421\n",
            "[255]\tvalidation_0-error:0.175444\tvalidation_0-logloss:0.41147\tvalidation_1-error:0.208525\tvalidation_1-logloss:0.484485\n",
            "[256]\tvalidation_0-error:0.175606\tvalidation_0-logloss:0.41118\tvalidation_1-error:0.20918\tvalidation_1-logloss:0.484424\n",
            "[257]\tvalidation_0-error:0.175444\tvalidation_0-logloss:0.410913\tvalidation_1-error:0.208525\tvalidation_1-logloss:0.484327\n",
            "[258]\tvalidation_0-error:0.175283\tvalidation_0-logloss:0.410628\tvalidation_1-error:0.206885\tvalidation_1-logloss:0.484359\n",
            "[259]\tvalidation_0-error:0.175283\tvalidation_0-logloss:0.410305\tvalidation_1-error:0.207213\tvalidation_1-logloss:0.484329\n",
            "[260]\tvalidation_0-error:0.17496\tvalidation_0-logloss:0.410036\tvalidation_1-error:0.206557\tvalidation_1-logloss:0.484309\n",
            "[261]\tvalidation_0-error:0.174475\tvalidation_0-logloss:0.409745\tvalidation_1-error:0.207213\tvalidation_1-logloss:0.484283\n",
            "[262]\tvalidation_0-error:0.174798\tvalidation_0-logloss:0.409459\tvalidation_1-error:0.206885\tvalidation_1-logloss:0.484293\n",
            "[263]\tvalidation_0-error:0.17496\tvalidation_0-logloss:0.409192\tvalidation_1-error:0.206885\tvalidation_1-logloss:0.484283\n",
            "[264]\tvalidation_0-error:0.174152\tvalidation_0-logloss:0.408938\tvalidation_1-error:0.206885\tvalidation_1-logloss:0.484269\n",
            "[265]\tvalidation_0-error:0.174475\tvalidation_0-logloss:0.408668\tvalidation_1-error:0.206557\tvalidation_1-logloss:0.484231\n",
            "[266]\tvalidation_0-error:0.17399\tvalidation_0-logloss:0.408408\tvalidation_1-error:0.206885\tvalidation_1-logloss:0.484146\n",
            "[267]\tvalidation_0-error:0.174152\tvalidation_0-logloss:0.408117\tvalidation_1-error:0.206557\tvalidation_1-logloss:0.484114\n",
            "[268]\tvalidation_0-error:0.17399\tvalidation_0-logloss:0.407831\tvalidation_1-error:0.206557\tvalidation_1-logloss:0.484123\n",
            "[269]\tvalidation_0-error:0.173506\tvalidation_0-logloss:0.407531\tvalidation_1-error:0.206557\tvalidation_1-logloss:0.484185\n",
            "[270]\tvalidation_0-error:0.173829\tvalidation_0-logloss:0.407294\tvalidation_1-error:0.206885\tvalidation_1-logloss:0.484286\n",
            "[271]\tvalidation_0-error:0.173183\tvalidation_0-logloss:0.407032\tvalidation_1-error:0.207213\tvalidation_1-logloss:0.48425\n",
            "[272]\tvalidation_0-error:0.172859\tvalidation_0-logloss:0.406764\tvalidation_1-error:0.206557\tvalidation_1-logloss:0.484144\n",
            "[273]\tvalidation_0-error:0.172698\tvalidation_0-logloss:0.40648\tvalidation_1-error:0.206885\tvalidation_1-logloss:0.48412\n",
            "[274]\tvalidation_0-error:0.172698\tvalidation_0-logloss:0.406273\tvalidation_1-error:0.206885\tvalidation_1-logloss:0.484099\n",
            "[275]\tvalidation_0-error:0.173183\tvalidation_0-logloss:0.406051\tvalidation_1-error:0.207213\tvalidation_1-logloss:0.484126\n",
            "[276]\tvalidation_0-error:0.173021\tvalidation_0-logloss:0.405802\tvalidation_1-error:0.207541\tvalidation_1-logloss:0.484093\n",
            "[277]\tvalidation_0-error:0.173021\tvalidation_0-logloss:0.405532\tvalidation_1-error:0.207213\tvalidation_1-logloss:0.484053\n",
            "[278]\tvalidation_0-error:0.173021\tvalidation_0-logloss:0.405326\tvalidation_1-error:0.207541\tvalidation_1-logloss:0.484033\n",
            "[279]\tvalidation_0-error:0.172859\tvalidation_0-logloss:0.405111\tvalidation_1-error:0.207213\tvalidation_1-logloss:0.484083\n",
            "[280]\tvalidation_0-error:0.172859\tvalidation_0-logloss:0.404853\tvalidation_1-error:0.207869\tvalidation_1-logloss:0.483928\n",
            "[281]\tvalidation_0-error:0.172859\tvalidation_0-logloss:0.404586\tvalidation_1-error:0.207541\tvalidation_1-logloss:0.483945\n",
            "[282]\tvalidation_0-error:0.172213\tvalidation_0-logloss:0.40428\tvalidation_1-error:0.207213\tvalidation_1-logloss:0.48403\n",
            "[283]\tvalidation_0-error:0.172052\tvalidation_0-logloss:0.404016\tvalidation_1-error:0.206885\tvalidation_1-logloss:0.484005\n",
            "[284]\tvalidation_0-error:0.17189\tvalidation_0-logloss:0.403762\tvalidation_1-error:0.206557\tvalidation_1-logloss:0.48396\n",
            "[285]\tvalidation_0-error:0.17189\tvalidation_0-logloss:0.403592\tvalidation_1-error:0.207541\tvalidation_1-logloss:0.483971\n",
            "[286]\tvalidation_0-error:0.171729\tvalidation_0-logloss:0.403381\tvalidation_1-error:0.206557\tvalidation_1-logloss:0.483855\n",
            "[287]\tvalidation_0-error:0.171567\tvalidation_0-logloss:0.403123\tvalidation_1-error:0.206885\tvalidation_1-logloss:0.483848\n",
            "[288]\tvalidation_0-error:0.171729\tvalidation_0-logloss:0.402903\tvalidation_1-error:0.207213\tvalidation_1-logloss:0.483862\n",
            "[289]\tvalidation_0-error:0.17189\tvalidation_0-logloss:0.402696\tvalidation_1-error:0.206885\tvalidation_1-logloss:0.483802\n",
            "[290]\tvalidation_0-error:0.172213\tvalidation_0-logloss:0.40243\tvalidation_1-error:0.206885\tvalidation_1-logloss:0.483746\n",
            "[291]\tvalidation_0-error:0.171729\tvalidation_0-logloss:0.40214\tvalidation_1-error:0.207213\tvalidation_1-logloss:0.483723\n",
            "[292]\tvalidation_0-error:0.171567\tvalidation_0-logloss:0.401901\tvalidation_1-error:0.206557\tvalidation_1-logloss:0.483743\n",
            "[293]\tvalidation_0-error:0.171729\tvalidation_0-logloss:0.401605\tvalidation_1-error:0.206885\tvalidation_1-logloss:0.483818\n",
            "[294]\tvalidation_0-error:0.171405\tvalidation_0-logloss:0.401312\tvalidation_1-error:0.206885\tvalidation_1-logloss:0.483852\n",
            "[295]\tvalidation_0-error:0.171567\tvalidation_0-logloss:0.401045\tvalidation_1-error:0.207213\tvalidation_1-logloss:0.483844\n",
            "[296]\tvalidation_0-error:0.171567\tvalidation_0-logloss:0.400832\tvalidation_1-error:0.207213\tvalidation_1-logloss:0.48388\n",
            "[297]\tvalidation_0-error:0.171244\tvalidation_0-logloss:0.400559\tvalidation_1-error:0.207869\tvalidation_1-logloss:0.483943\n",
            "[298]\tvalidation_0-error:0.171244\tvalidation_0-logloss:0.400262\tvalidation_1-error:0.208197\tvalidation_1-logloss:0.483931\n",
            "[299]\tvalidation_0-error:0.170921\tvalidation_0-logloss:0.400019\tvalidation_1-error:0.207869\tvalidation_1-logloss:0.483949\n"
          ]
        },
        {
          "output_type": "execute_result",
          "data": {
            "text/plain": [
              "XGBClassifier(learning_rate=0.01, max_depth=12, n_estimators=300,\n",
              "              subsample=0.33)"
            ]
          },
          "metadata": {},
          "execution_count": 46
        }
      ]
    },
    {
      "cell_type": "code",
      "source": [
        "y_pred = model.predict(test_X)\n",
        "y_pred"
      ],
      "metadata": {
        "colab": {
          "base_uri": "https://localhost:8080/"
        },
        "id": "lOnGLwmBRrNo",
        "outputId": "a6a9a9a6-ef60-4924-a522-db4566af8af2"
      },
      "execution_count": 47,
      "outputs": [
        {
          "output_type": "execute_result",
          "data": {
            "text/plain": [
              "array([1., 0., 0., ..., 0., 1., 1.])"
            ]
          },
          "metadata": {},
          "execution_count": 47
        }
      ]
    },
    {
      "cell_type": "code",
      "source": [
        "from sklearn.metrics import confusion_matrix,classification_report\n",
        "print(classification_report(test_Y, y_pred))\n",
        "print(confusion_matrix (test_Y, y_pred))"
      ],
      "metadata": {
        "colab": {
          "base_uri": "https://localhost:8080/"
        },
        "id": "MxaB2lvFR2Dh",
        "outputId": "ca3f3d67-eb3b-4633-d8e4-d18bd55723f8"
      },
      "execution_count": 48,
      "outputs": [
        {
          "output_type": "stream",
          "name": "stdout",
          "text": [
            "              precision    recall  f1-score   support\n",
            "\n",
            "         0.0       0.82      0.85      0.83      1875\n",
            "         1.0       0.74      0.71      0.72      1175\n",
            "\n",
            "    accuracy                           0.79      3050\n",
            "   macro avg       0.78      0.78      0.78      3050\n",
            "weighted avg       0.79      0.79      0.79      3050\n",
            "\n",
            "[[1588  287]\n",
            " [ 345  830]]\n"
          ]
        }
      ]
    },
    {
      "cell_type": "code",
      "source": [
        "pickle.dump(model, open(\"BI-model.pkl\", \"wb\"))"
      ],
      "metadata": {
        "id": "_7ZQbEPbhB14"
      },
      "execution_count": 49,
      "outputs": []
    },
    {
      "cell_type": "code",
      "source": [
        "from matplotlib import pyplot"
      ],
      "metadata": {
        "id": "xLeCFh1Xi1Cj"
      },
      "execution_count": 50,
      "outputs": []
    },
    {
      "cell_type": "code",
      "source": [
        "# retrieve performance metrics\n",
        "results = model.evals_result()\n",
        "epochs = len(results['validation_0']['error'])\n",
        "x_axis = range(0, epochs)\n",
        "# plot log loss\n",
        "fig, ax = pyplot.subplots()\n",
        "ax.plot(x_axis, results['validation_0']['logloss'], label='Train')\n",
        "ax.plot(x_axis, results['validation_1']['logloss'], label='Test')\n",
        "ax.legend()\n",
        "pyplot.ylabel('Log Loss')\n",
        "pyplot.title('XGBoost Log Loss')\n",
        "pyplot.show()\n",
        "# plot classification error\n",
        "fig, ax = pyplot.subplots()\n",
        "ax.plot(x_axis, results['validation_0']['error'], label='Train')\n",
        "ax.plot(x_axis, results['validation_1']['error'], label='Test')\n",
        "ax.legend()\n",
        "pyplot.ylabel('Classification Error')\n",
        "pyplot.title('XGBoost Classification Error')\n",
        "pyplot.show()"
      ],
      "metadata": {
        "colab": {
          "base_uri": "https://localhost:8080/",
          "height": 544
        },
        "id": "81Kj0E1SiVm2",
        "outputId": "e0a03b8a-b8d7-47b1-c011-fa1285d4cbed"
      },
      "execution_count": 51,
      "outputs": [
        {
          "output_type": "display_data",
          "data": {
            "image/png": "[encoded data removed]",
            "text/plain": [
              "<Figure size 432x288 with 1 Axes>"
            ]
          },
          "metadata": {
            "needs_background": "light"
          }
        },
        {
          "output_type": "display_data",
          "data": {
            "image/png": "[encoded data removed]",
            "text/plain": [
              "<Figure size 432x288 with 1 Axes>"
            ]
          },
          "metadata": {
            "needs_background": "light"
          }
        }
      ]
    }
  ],
  "metadata": {
    "colab": {
      "name": "eda.ipynb",
      "provenance": []
    },
    "kernelspec": {
      "display_name": "Python 3",
      "name": "python3"
    },
    "language_info": {
      "name": "python"
    }
  },
  "nbformat": 4,
  "nbformat_minor": 0
}